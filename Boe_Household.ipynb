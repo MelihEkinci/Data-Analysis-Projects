{
 "cells": [
  {
   "cell_type": "markdown",
   "id": "8c59561b",
   "metadata": {},
   "source": [
    "# Data Analysis of Bank of England/NMG Household Survey Data\n",
    "# by Melih Ekinci\n",
    "\n",
    "Data Source:\t\t\t2011-2021 NMG Research Surveys\n",
    "<br>Link:https://www.bankofengland.co.uk/statistics/research-datasets\n",
    "\t\t\t\t\t\t\t\t\t\t\t\t\t\n",
    "Sample of survey:<br>\n",
    "            2011-\t995 households\t\t\t\t\t\t\n",
    "\t\t\t2012-\t4003 households\t\t\t\t\t\t\t\n",
    "\t\t\t2013-\t6006 households\t\t\t\t\t\t\t\n",
    "\t\t\t2014-\t6001 households\t\t\t\t\t\t\t\t\n",
    "\t\t\t2015-\t6007 households\t\t\t\t\t\t\t\t\n",
    "\t\t\t2016-\t6011 households\t\t\t\t\t\t\t\t\n",
    "\t\t\t2017-\t6018 households\t\t\t\t\t\t\t\t\n",
    "\t\t\t2018-\t6000 households\t\t\t\t\t\t\t\n",
    "\t\t\t2019-\t6051 households\t\t\t\t\t\t\t\t\n",
    "\t\t\t2020-\t6032 households\t\t\t\t\t\t\t\t\n",
    "\t\t\t2021-\t6051 households\t\t\t\t\t\t\t\n",
    "\t\t\t\t\t\t\t\t\t\t\t\t\t\n",
    "Survey period:<br>\t\t2011-\t23-29 September 2011\t\t\t\t\t\t\t\t\t\t\n",
    "\t\t2012-\t12 September - 3 October 2012\t\t\t\t\t\t\t\t\t\t\n",
    "\t\t2013-\t12-30 September 2013\t\t\t\t\t\t\t\t\t\t\n",
    "\t\t2014-\t3-24 September 2014\t\t\t\t\t\t\t\t\t\t\n",
    "\t\t2015-\t2-22 September 2015\t\t\t\t\t\t\t\t\t\t\n",
    "\t\t2016-\t31 August-19 September 2016\t\t\t\t\t\t\t\t\t\t\n",
    "\t\t2017-\t6-26 September 2017\t\t\t\t\t\t\t\t\t\t\n",
    "\t\t2018-\t5-26 September 2018\t\t\t\t\t\t\t\t\t\t\n",
    "\t\t2019-\t4-24 September 2019\t\t\t\t\t\t\t\t\t\t\n",
    "\t\t2020-\t25 August-15 September 2020\t\t\t\t\t\t\t\t\t\t\n",
    "\t\t2021-\t1-21 September 2021\t\t\t\t\t\t\t\t\t\t\n",
    "\t\t\t\t\t\t\t\t\t\t\t\t"
   ]
  },
  {
   "cell_type": "markdown",
   "id": "a2e280d9",
   "metadata": {},
   "source": [
    "## 1. Data Preparation"
   ]
  },
  {
   "cell_type": "markdown",
   "id": "779d8341",
   "metadata": {},
   "source": [
    "In order to prepare a dataset of UK household income survey combined across several years, necessary libraries and excel file must be imported firstly. After importing the excel file, each sheet must assigned to a dataframe. Lastly, we will concat these dataframes into together to have a single dataframe contanining data for the years between 2011-2021."
   ]
  },
  {
   "cell_type": "markdown",
   "id": "5034495f",
   "metadata": {},
   "source": [
    "### 1.1 Importing data"
   ]
  },
  {
   "cell_type": "markdown",
   "id": "5d351dca",
   "metadata": {},
   "source": [
    "Below, I imported the libraries that is needed in this work."
   ]
  },
  {
   "cell_type": "code",
   "execution_count": 1,
   "id": "3f029185",
   "metadata": {},
   "outputs": [],
   "source": [
    "#importing necessary libraries\n",
    "#pip install missingno\n",
    "#pip install matplotlib\n",
    "#pip install ggplot==0.4.7\n",
    "import pandas as pd\n",
    "import numpy as np\n",
    "import itertools\n",
    "#import missingno as msno\n",
    "import matplotlib.pyplot as plt\n",
    "import os\n",
    "import warnings\n",
    "\n",
    "import seaborn as sns\n",
    "warnings.filterwarnings(\"ignore\")"
   ]
  },
  {
   "cell_type": "markdown",
   "id": "c9cab560",
   "metadata": {},
   "source": [
    "Changing the working directory to the file folder of choice."
   ]
  },
  {
   "cell_type": "code",
   "execution_count": 3,
   "id": "3ed2203c",
   "metadata": {},
   "outputs": [
    {
     "name": "stdout",
     "output_type": "stream",
     "text": [
      "Directory changed\n"
     ]
    }
   ],
   "source": [
    "#Changing working directory to a designated file\n",
    "os.chdir(r\"/Users/melihekinci/Documents/BoE\")\n",
    "print(\"Directory changed\")"
   ]
  },
  {
   "cell_type": "markdown",
   "id": "70928962",
   "metadata": {},
   "source": [
    "Importing the excel file and listing sheet names."
   ]
  },
  {
   "cell_type": "code",
   "execution_count": 4,
   "id": "7308f736",
   "metadata": {},
   "outputs": [],
   "source": [
    "#reading the data\n",
    "xlsx = pd.ExcelFile('boe-nmg-household-survey-data.xlsx')"
   ]
  },
  {
   "cell_type": "code",
   "execution_count": 5,
   "id": "09b3fa9e",
   "metadata": {},
   "outputs": [
    {
     "data": {
      "text/plain": [
       "['Instructions',\n",
       " 'Data description',\n",
       " '2011-2021 PID-SUBSID',\n",
       " '2011',\n",
       " '2012',\n",
       " '2013',\n",
       " '2014',\n",
       " '2015',\n",
       " '2016',\n",
       " '2017',\n",
       " '2018',\n",
       " '2019',\n",
       " '2020',\n",
       " '2021']"
      ]
     },
     "execution_count": 5,
     "metadata": {},
     "output_type": "execute_result"
    }
   ],
   "source": [
    "#listing sheet names in the data\n",
    "SheetList=xlsx.sheet_names\n",
    "SheetList"
   ]
  },
  {
   "cell_type": "markdown",
   "id": "0c8d7487",
   "metadata": {},
   "source": [
    "Next, data frames for each sheet is created using a dictionary."
   ]
  },
  {
   "cell_type": "code",
   "execution_count": 6,
   "id": "7a3d8d3f",
   "metadata": {},
   "outputs": [],
   "source": [
    "SheetDictionary={}\n",
    "#creating datasets for each sheet using dictionary\n",
    "for i in range(len(SheetList)):\n",
    "    SheetDictionary[SheetList[i]]=xlsx.parse(i)"
   ]
  },
  {
   "cell_type": "code",
   "execution_count": 7,
   "id": "94eaff49",
   "metadata": {},
   "outputs": [],
   "source": [
    "#getting sheet names into a list.\n",
    "keys=list(SheetDictionary.keys())"
   ]
  },
  {
   "cell_type": "markdown",
   "id": "5411cbd6",
   "metadata": {},
   "source": [
    "Let's add a column indicating the year of survey, also look at the number of features for each year. It is important to see whether each data frame has the same features and same number of features. Furthermore, names of these features should be written same in order to concatenate datasets properly. So, for the next step I'll check two things: <br>\n",
    "1) Number of features <br>\n",
    "2) Whether feature names are same across datasets"
   ]
  },
  {
   "cell_type": "code",
   "execution_count": 8,
   "id": "807c04b2",
   "metadata": {},
   "outputs": [
    {
     "name": "stdout",
     "output_type": "stream",
     "text": [
      "For the year 2011, number of features is 1423.\n",
      "For the year 2012, number of features is 1423.\n",
      "For the year 2013, number of features is 1423.\n",
      "For the year 2014, number of features is 1423.\n",
      "For the year 2015, number of features is 1423.\n",
      "For the year 2016, number of features is 1423.\n",
      "For the year 2017, number of features is 1423.\n",
      "For the year 2018, number of features is 1423.\n",
      "For the year 2019, number of features is 1423.\n",
      "For the year 2020, number of features is 1423.\n",
      "For the year 2021, number of features is 1923.\n"
     ]
    }
   ],
   "source": [
    "#adding a column indicating the year of survey for each data set\n",
    "for i in range(keys.index('2011'),len(keys)):\n",
    "    SheetDictionary[keys[i]][\"year\"]=int(keys[i])\n",
    "    print('For the year '+ str(keys[i]) +', number of features is '+ str(len(SheetDictionary[keys[i]].columns))+'.')"
   ]
  },
  {
   "cell_type": "markdown",
   "id": "00c24abf",
   "metadata": {},
   "source": [
    "So the number of features is different for the year 2021. Let's check whether the features are same for the years 2011-2020. We know that their number of features are same. My next step will be getting all feature names in a dataset so I can compare them. It's really important to **strip** and **lower case** features name before comparing them."
   ]
  },
  {
   "cell_type": "code",
   "execution_count": 9,
   "id": "a361f2e1",
   "metadata": {},
   "outputs": [],
   "source": [
    "column_names= pd.DataFrame()\n",
    "for i in range(keys.index('2011'),len(keys)):\n",
    "    if keys[i]!='2021':\n",
    "        column_names[keys[i]]=list(SheetDictionary[keys[i]].rename(str.lower, axis='columns').columns.str.strip())\n",
    "    else:\n",
    "        column_names[keys[i]]=pd.Series(list(SheetDictionary[keys[i]].rename(str.lower, axis='columns').columns.str.strip()))"
   ]
  },
  {
   "cell_type": "code",
   "execution_count": 10,
   "id": "9aece433",
   "metadata": {},
   "outputs": [
    {
     "data": {
      "text/html": [
       "<div>\n",
       "<style scoped>\n",
       "    .dataframe tbody tr th:only-of-type {\n",
       "        vertical-align: middle;\n",
       "    }\n",
       "\n",
       "    .dataframe tbody tr th {\n",
       "        vertical-align: top;\n",
       "    }\n",
       "\n",
       "    .dataframe thead th {\n",
       "        text-align: right;\n",
       "    }\n",
       "</style>\n",
       "<table border=\"1\" class=\"dataframe\">\n",
       "  <thead>\n",
       "    <tr style=\"text-align: right;\">\n",
       "      <th></th>\n",
       "      <th>2011</th>\n",
       "      <th>2012</th>\n",
       "      <th>2013</th>\n",
       "      <th>2014</th>\n",
       "      <th>2015</th>\n",
       "      <th>2016</th>\n",
       "      <th>2017</th>\n",
       "      <th>2018</th>\n",
       "      <th>2019</th>\n",
       "      <th>2020</th>\n",
       "      <th>2021</th>\n",
       "    </tr>\n",
       "  </thead>\n",
       "  <tbody>\n",
       "    <tr>\n",
       "      <th>0</th>\n",
       "      <td>we_factor</td>\n",
       "      <td>we_factor</td>\n",
       "      <td>we_factor</td>\n",
       "      <td>we_factor</td>\n",
       "      <td>we_factor</td>\n",
       "      <td>we_factor</td>\n",
       "      <td>we_factor</td>\n",
       "      <td>we_factor</td>\n",
       "      <td>we_factor</td>\n",
       "      <td>we_factor</td>\n",
       "      <td>we_factor</td>\n",
       "    </tr>\n",
       "    <tr>\n",
       "      <th>1</th>\n",
       "      <td>subsid</td>\n",
       "      <td>subsid</td>\n",
       "      <td>subsid</td>\n",
       "      <td>subsid</td>\n",
       "      <td>subsid</td>\n",
       "      <td>subsid</td>\n",
       "      <td>subsid</td>\n",
       "      <td>subsid</td>\n",
       "      <td>subsid</td>\n",
       "      <td>subsid</td>\n",
       "      <td>subsid</td>\n",
       "    </tr>\n",
       "    <tr>\n",
       "      <th>2</th>\n",
       "      <td>dsoc</td>\n",
       "      <td>dsoc</td>\n",
       "      <td>dsoc</td>\n",
       "      <td>dsoc</td>\n",
       "      <td>dsoc</td>\n",
       "      <td>dsoc</td>\n",
       "      <td>dsoc</td>\n",
       "      <td>dsoc</td>\n",
       "      <td>dsoc</td>\n",
       "      <td>dsoc</td>\n",
       "      <td>dsoc</td>\n",
       "    </tr>\n",
       "    <tr>\n",
       "      <th>3</th>\n",
       "      <td>dsocial</td>\n",
       "      <td>dsocial</td>\n",
       "      <td>dsocial</td>\n",
       "      <td>dsocial</td>\n",
       "      <td>dsocial</td>\n",
       "      <td>dsocial</td>\n",
       "      <td>dsocial</td>\n",
       "      <td>dsocial</td>\n",
       "      <td>dsocial</td>\n",
       "      <td>dsocial</td>\n",
       "      <td>dsocial</td>\n",
       "    </tr>\n",
       "    <tr>\n",
       "      <th>4</th>\n",
       "      <td>fgenage_1</td>\n",
       "      <td>fgenage_1</td>\n",
       "      <td>fgenage_1</td>\n",
       "      <td>fgenage_1</td>\n",
       "      <td>fgenage_1</td>\n",
       "      <td>fgenage_1</td>\n",
       "      <td>fgenage_1</td>\n",
       "      <td>fgenage_1</td>\n",
       "      <td>fgenage_1</td>\n",
       "      <td>fgenage_1</td>\n",
       "      <td>fgenage_1</td>\n",
       "    </tr>\n",
       "  </tbody>\n",
       "</table>\n",
       "</div>"
      ],
      "text/plain": [
       "        2011       2012       2013       2014       2015       2016  \\\n",
       "0  we_factor  we_factor  we_factor  we_factor  we_factor  we_factor   \n",
       "1     subsid     subsid     subsid     subsid     subsid     subsid   \n",
       "2       dsoc       dsoc       dsoc       dsoc       dsoc       dsoc   \n",
       "3    dsocial    dsocial    dsocial    dsocial    dsocial    dsocial   \n",
       "4  fgenage_1  fgenage_1  fgenage_1  fgenage_1  fgenage_1  fgenage_1   \n",
       "\n",
       "        2017       2018       2019       2020       2021  \n",
       "0  we_factor  we_factor  we_factor  we_factor  we_factor  \n",
       "1     subsid     subsid     subsid     subsid     subsid  \n",
       "2       dsoc       dsoc       dsoc       dsoc       dsoc  \n",
       "3    dsocial    dsocial    dsocial    dsocial    dsocial  \n",
       "4  fgenage_1  fgenage_1  fgenage_1  fgenage_1  fgenage_1  "
      ]
     },
     "execution_count": 10,
     "metadata": {},
     "output_type": "execute_result"
    }
   ],
   "source": [
    "column_names.head()"
   ]
  },
  {
   "cell_type": "markdown",
   "id": "d252386d",
   "metadata": {},
   "source": [
    "Here I created a column based a condition to test whether all values are equal across 2011-2021. If any feature name is different in any year given a row, the column (Test1) will show 1 as a result."
   ]
  },
  {
   "cell_type": "code",
   "execution_count": 11,
   "id": "559798fb",
   "metadata": {},
   "outputs": [],
   "source": [
    "column_names['Test1'] = column_names.apply(lambda x: 0 if x['2011'] ==\n",
    "                     x['2012'] and x['2011'] ==x['2013'] and x['2011'] ==x['2014'] and x['2011'] ==x['2015'] and x['2011'] ==x['2016'] and x['2011'] ==x['2017'] and x['2011'] ==x['2018']\n",
    "                    and x['2011'] ==x['2019'] and x['2011'] ==x['2020'] else 1, axis=1)"
   ]
  },
  {
   "cell_type": "code",
   "execution_count": 12,
   "id": "2c142af9",
   "metadata": {},
   "outputs": [
    {
     "data": {
      "text/html": [
       "<div>\n",
       "<style scoped>\n",
       "    .dataframe tbody tr th:only-of-type {\n",
       "        vertical-align: middle;\n",
       "    }\n",
       "\n",
       "    .dataframe tbody tr th {\n",
       "        vertical-align: top;\n",
       "    }\n",
       "\n",
       "    .dataframe thead th {\n",
       "        text-align: right;\n",
       "    }\n",
       "</style>\n",
       "<table border=\"1\" class=\"dataframe\">\n",
       "  <thead>\n",
       "    <tr style=\"text-align: right;\">\n",
       "      <th></th>\n",
       "      <th>2011</th>\n",
       "      <th>2012</th>\n",
       "      <th>2013</th>\n",
       "      <th>2014</th>\n",
       "      <th>2015</th>\n",
       "      <th>2016</th>\n",
       "      <th>2017</th>\n",
       "      <th>2018</th>\n",
       "      <th>2019</th>\n",
       "      <th>2020</th>\n",
       "      <th>2021</th>\n",
       "      <th>Test1</th>\n",
       "    </tr>\n",
       "  </thead>\n",
       "  <tbody>\n",
       "    <tr>\n",
       "      <th>0</th>\n",
       "      <td>we_factor</td>\n",
       "      <td>we_factor</td>\n",
       "      <td>we_factor</td>\n",
       "      <td>we_factor</td>\n",
       "      <td>we_factor</td>\n",
       "      <td>we_factor</td>\n",
       "      <td>we_factor</td>\n",
       "      <td>we_factor</td>\n",
       "      <td>we_factor</td>\n",
       "      <td>we_factor</td>\n",
       "      <td>we_factor</td>\n",
       "      <td>0</td>\n",
       "    </tr>\n",
       "    <tr>\n",
       "      <th>1</th>\n",
       "      <td>subsid</td>\n",
       "      <td>subsid</td>\n",
       "      <td>subsid</td>\n",
       "      <td>subsid</td>\n",
       "      <td>subsid</td>\n",
       "      <td>subsid</td>\n",
       "      <td>subsid</td>\n",
       "      <td>subsid</td>\n",
       "      <td>subsid</td>\n",
       "      <td>subsid</td>\n",
       "      <td>subsid</td>\n",
       "      <td>0</td>\n",
       "    </tr>\n",
       "    <tr>\n",
       "      <th>2</th>\n",
       "      <td>dsoc</td>\n",
       "      <td>dsoc</td>\n",
       "      <td>dsoc</td>\n",
       "      <td>dsoc</td>\n",
       "      <td>dsoc</td>\n",
       "      <td>dsoc</td>\n",
       "      <td>dsoc</td>\n",
       "      <td>dsoc</td>\n",
       "      <td>dsoc</td>\n",
       "      <td>dsoc</td>\n",
       "      <td>dsoc</td>\n",
       "      <td>0</td>\n",
       "    </tr>\n",
       "    <tr>\n",
       "      <th>3</th>\n",
       "      <td>dsocial</td>\n",
       "      <td>dsocial</td>\n",
       "      <td>dsocial</td>\n",
       "      <td>dsocial</td>\n",
       "      <td>dsocial</td>\n",
       "      <td>dsocial</td>\n",
       "      <td>dsocial</td>\n",
       "      <td>dsocial</td>\n",
       "      <td>dsocial</td>\n",
       "      <td>dsocial</td>\n",
       "      <td>dsocial</td>\n",
       "      <td>0</td>\n",
       "    </tr>\n",
       "    <tr>\n",
       "      <th>4</th>\n",
       "      <td>fgenage_1</td>\n",
       "      <td>fgenage_1</td>\n",
       "      <td>fgenage_1</td>\n",
       "      <td>fgenage_1</td>\n",
       "      <td>fgenage_1</td>\n",
       "      <td>fgenage_1</td>\n",
       "      <td>fgenage_1</td>\n",
       "      <td>fgenage_1</td>\n",
       "      <td>fgenage_1</td>\n",
       "      <td>fgenage_1</td>\n",
       "      <td>fgenage_1</td>\n",
       "      <td>0</td>\n",
       "    </tr>\n",
       "  </tbody>\n",
       "</table>\n",
       "</div>"
      ],
      "text/plain": [
       "        2011       2012       2013       2014       2015       2016  \\\n",
       "0  we_factor  we_factor  we_factor  we_factor  we_factor  we_factor   \n",
       "1     subsid     subsid     subsid     subsid     subsid     subsid   \n",
       "2       dsoc       dsoc       dsoc       dsoc       dsoc       dsoc   \n",
       "3    dsocial    dsocial    dsocial    dsocial    dsocial    dsocial   \n",
       "4  fgenage_1  fgenage_1  fgenage_1  fgenage_1  fgenage_1  fgenage_1   \n",
       "\n",
       "        2017       2018       2019       2020       2021  Test1  \n",
       "0  we_factor  we_factor  we_factor  we_factor  we_factor      0  \n",
       "1     subsid     subsid     subsid     subsid     subsid      0  \n",
       "2       dsoc       dsoc       dsoc       dsoc       dsoc      0  \n",
       "3    dsocial    dsocial    dsocial    dsocial    dsocial      0  \n",
       "4  fgenage_1  fgenage_1  fgenage_1  fgenage_1  fgenage_1      0  "
      ]
     },
     "execution_count": 12,
     "metadata": {},
     "output_type": "execute_result"
    }
   ],
   "source": [
    "column_names.head()"
   ]
  },
  {
   "cell_type": "code",
   "execution_count": 13,
   "id": "e6028b46",
   "metadata": {},
   "outputs": [
    {
     "name": "stdout",
     "output_type": "stream",
     "text": [
      "Unique values for the test column: [0]\n",
      "Therefore, all of the 1423 features across the datasets belonging the years 2011-2020 are the same features.\n"
     ]
    }
   ],
   "source": [
    "print(\"Unique values for the test column: \"+str(column_names.Test1.unique()))\n",
    "print(\"Therefore, all of the 1423 features across the datasets belonging the years 2011-2020 are the same features.\")"
   ]
  },
  {
   "cell_type": "markdown",
   "id": "0a8fa1d6",
   "metadata": {},
   "source": [
    "### 1.2 Merging dataframes"
   ]
  },
  {
   "cell_type": "markdown",
   "id": "d179704d",
   "metadata": {},
   "source": [
    "So, we know that feature names and number are same for the years 2011-2020. For the year 2021, there might be additional features. In order to concatenate these datasets into one single dataset, we can use pd.concat function to match features accordingly. **It's important to keep feature names stripped and lower cased.**"
   ]
  },
  {
   "cell_type": "code",
   "execution_count": 14,
   "id": "d92ac258",
   "metadata": {},
   "outputs": [],
   "source": [
    "#merging all data sets across years\n",
    "df_merged=SheetDictionary[keys[keys.index('2011')]].rename(str.lower, axis='columns').rename(str.strip, axis='columns')\n",
    "for i in range(keys.index('2012'),len(keys)):\n",
    "    df_merged=pd.concat([df_merged, SheetDictionary[keys[i]].rename(str.lower, axis='columns').rename(str.strip, axis='columns')],axis=0, ignore_index=True)"
   ]
  },
  {
   "cell_type": "code",
   "execution_count": 15,
   "id": "f0fa1af0",
   "metadata": {},
   "outputs": [
    {
     "data": {
      "text/html": [
       "<div>\n",
       "<style scoped>\n",
       "    .dataframe tbody tr th:only-of-type {\n",
       "        vertical-align: middle;\n",
       "    }\n",
       "\n",
       "    .dataframe tbody tr th {\n",
       "        vertical-align: top;\n",
       "    }\n",
       "\n",
       "    .dataframe thead th {\n",
       "        text-align: right;\n",
       "    }\n",
       "</style>\n",
       "<table border=\"1\" class=\"dataframe\">\n",
       "  <thead>\n",
       "    <tr style=\"text-align: right;\">\n",
       "      <th></th>\n",
       "      <th>we_factor</th>\n",
       "      <th>subsid</th>\n",
       "      <th>dsoc</th>\n",
       "      <th>dsocial</th>\n",
       "      <th>fgenage_1</th>\n",
       "      <th>dage</th>\n",
       "      <th>dregion</th>\n",
       "      <th>fgen</th>\n",
       "      <th>qhousing</th>\n",
       "      <th>dhousing</th>\n",
       "      <th>...</th>\n",
       "      <th>cv12b_4</th>\n",
       "      <th>cv12b_5</th>\n",
       "      <th>cv12b_97</th>\n",
       "      <th>cv12c_1</th>\n",
       "      <th>cv12c_2</th>\n",
       "      <th>cv12c_3</th>\n",
       "      <th>cv12c_4</th>\n",
       "      <th>cv12c_97</th>\n",
       "      <th>ret2021sep</th>\n",
       "      <th>mh04</th>\n",
       "    </tr>\n",
       "  </thead>\n",
       "  <tbody>\n",
       "    <tr>\n",
       "      <th>0</th>\n",
       "      <td>1.176425</td>\n",
       "      <td>22007620.0</td>\n",
       "      <td>2.0</td>\n",
       "      <td>1.0</td>\n",
       "      <td>23</td>\n",
       "      <td>1</td>\n",
       "      <td>3</td>\n",
       "      <td>2</td>\n",
       "      <td>4</td>\n",
       "      <td>4</td>\n",
       "      <td>...</td>\n",
       "      <td>NaN</td>\n",
       "      <td>NaN</td>\n",
       "      <td>NaN</td>\n",
       "      <td>NaN</td>\n",
       "      <td>NaN</td>\n",
       "      <td>NaN</td>\n",
       "      <td>NaN</td>\n",
       "      <td>NaN</td>\n",
       "      <td>NaN</td>\n",
       "      <td>NaN</td>\n",
       "    </tr>\n",
       "    <tr>\n",
       "      <th>1</th>\n",
       "      <td>0.931040</td>\n",
       "      <td>22238715.0</td>\n",
       "      <td>5.0</td>\n",
       "      <td>5.0</td>\n",
       "      <td>22</td>\n",
       "      <td>1</td>\n",
       "      <td>3</td>\n",
       "      <td>1</td>\n",
       "      <td>1</td>\n",
       "      <td>1</td>\n",
       "      <td>...</td>\n",
       "      <td>NaN</td>\n",
       "      <td>NaN</td>\n",
       "      <td>NaN</td>\n",
       "      <td>NaN</td>\n",
       "      <td>NaN</td>\n",
       "      <td>NaN</td>\n",
       "      <td>NaN</td>\n",
       "      <td>NaN</td>\n",
       "      <td>NaN</td>\n",
       "      <td>NaN</td>\n",
       "    </tr>\n",
       "    <tr>\n",
       "      <th>2</th>\n",
       "      <td>1.181808</td>\n",
       "      <td>20404925.0</td>\n",
       "      <td>2.0</td>\n",
       "      <td>1.0</td>\n",
       "      <td>59</td>\n",
       "      <td>5</td>\n",
       "      <td>3</td>\n",
       "      <td>1</td>\n",
       "      <td>2</td>\n",
       "      <td>2</td>\n",
       "      <td>...</td>\n",
       "      <td>NaN</td>\n",
       "      <td>NaN</td>\n",
       "      <td>NaN</td>\n",
       "      <td>NaN</td>\n",
       "      <td>NaN</td>\n",
       "      <td>NaN</td>\n",
       "      <td>NaN</td>\n",
       "      <td>NaN</td>\n",
       "      <td>NaN</td>\n",
       "      <td>NaN</td>\n",
       "    </tr>\n",
       "    <tr>\n",
       "      <th>3</th>\n",
       "      <td>1.000213</td>\n",
       "      <td>21839916.0</td>\n",
       "      <td>5.0</td>\n",
       "      <td>5.0</td>\n",
       "      <td>21</td>\n",
       "      <td>1</td>\n",
       "      <td>9</td>\n",
       "      <td>1</td>\n",
       "      <td>3</td>\n",
       "      <td>3</td>\n",
       "      <td>...</td>\n",
       "      <td>NaN</td>\n",
       "      <td>NaN</td>\n",
       "      <td>NaN</td>\n",
       "      <td>NaN</td>\n",
       "      <td>NaN</td>\n",
       "      <td>NaN</td>\n",
       "      <td>NaN</td>\n",
       "      <td>NaN</td>\n",
       "      <td>NaN</td>\n",
       "      <td>NaN</td>\n",
       "    </tr>\n",
       "    <tr>\n",
       "      <th>4</th>\n",
       "      <td>0.913671</td>\n",
       "      <td>23091998.0</td>\n",
       "      <td>4.0</td>\n",
       "      <td>4.0</td>\n",
       "      <td>24</td>\n",
       "      <td>1</td>\n",
       "      <td>1</td>\n",
       "      <td>2</td>\n",
       "      <td>4</td>\n",
       "      <td>4</td>\n",
       "      <td>...</td>\n",
       "      <td>NaN</td>\n",
       "      <td>NaN</td>\n",
       "      <td>NaN</td>\n",
       "      <td>NaN</td>\n",
       "      <td>NaN</td>\n",
       "      <td>NaN</td>\n",
       "      <td>NaN</td>\n",
       "      <td>NaN</td>\n",
       "      <td>NaN</td>\n",
       "      <td>NaN</td>\n",
       "    </tr>\n",
       "  </tbody>\n",
       "</table>\n",
       "<p>5 rows × 1924 columns</p>\n",
       "</div>"
      ],
      "text/plain": [
       "   we_factor      subsid  dsoc  dsocial  fgenage_1  dage  dregion  fgen  \\\n",
       "0   1.176425  22007620.0   2.0      1.0         23     1        3     2   \n",
       "1   0.931040  22238715.0   5.0      5.0         22     1        3     1   \n",
       "2   1.181808  20404925.0   2.0      1.0         59     5        3     1   \n",
       "3   1.000213  21839916.0   5.0      5.0         21     1        9     1   \n",
       "4   0.913671  23091998.0   4.0      4.0         24     1        1     2   \n",
       "\n",
       "   qhousing  dhousing  ...  cv12b_4  cv12b_5  cv12b_97  cv12c_1  cv12c_2  \\\n",
       "0         4         4  ...      NaN      NaN       NaN      NaN      NaN   \n",
       "1         1         1  ...      NaN      NaN       NaN      NaN      NaN   \n",
       "2         2         2  ...      NaN      NaN       NaN      NaN      NaN   \n",
       "3         3         3  ...      NaN      NaN       NaN      NaN      NaN   \n",
       "4         4         4  ...      NaN      NaN       NaN      NaN      NaN   \n",
       "\n",
       "   cv12c_3  cv12c_4  cv12c_97  ret2021sep  mh04  \n",
       "0      NaN      NaN       NaN         NaN   NaN  \n",
       "1      NaN      NaN       NaN         NaN   NaN  \n",
       "2      NaN      NaN       NaN         NaN   NaN  \n",
       "3      NaN      NaN       NaN         NaN   NaN  \n",
       "4      NaN      NaN       NaN         NaN   NaN  \n",
       "\n",
       "[5 rows x 1924 columns]"
      ]
     },
     "execution_count": 15,
     "metadata": {},
     "output_type": "execute_result"
    }
   ],
   "source": [
    "#the final dataset to be cleansed/analyzed is ready.\n",
    "df_merged.head()"
   ]
  },
  {
   "cell_type": "code",
   "execution_count": 16,
   "id": "29a78eb2",
   "metadata": {},
   "outputs": [
    {
     "name": "stdout",
     "output_type": "stream",
     "text": [
      "<class 'pandas.core.frame.DataFrame'>\n",
      "RangeIndex: 59175 entries, 0 to 59174\n",
      "Columns: 1924 entries, we_factor to mh04\n",
      "dtypes: float64(1898), int64(23), object(3)\n",
      "memory usage: 868.6+ MB\n"
     ]
    }
   ],
   "source": [
    "df_merged.info()"
   ]
  },
  {
   "cell_type": "code",
   "execution_count": 17,
   "id": "ecb6f50a",
   "metadata": {},
   "outputs": [
    {
     "data": {
      "text/plain": [
       "array([2011, 2012, 2013, 2014, 2015, 2016, 2017, 2018, 2019, 2020, 2021])"
      ]
     },
     "execution_count": 17,
     "metadata": {},
     "output_type": "execute_result"
    }
   ],
   "source": [
    "df_merged.year.unique()"
   ]
  },
  {
   "cell_type": "markdown",
   "id": "6a49c204",
   "metadata": {},
   "source": [
    "### 1.3 Data Quality"
   ]
  },
  {
   "cell_type": "markdown",
   "id": "a893ab33",
   "metadata": {},
   "source": [
    "Since we merged datasets properly, we can now try to understand quality of this dataset. For example, looking at missing value ratios for each column can be intuitive."
   ]
  },
  {
   "cell_type": "markdown",
   "id": "ae5c06e3",
   "metadata": {},
   "source": [
    "Below, I created a dataframe which has the features in dataset as index. Number of missing values and its ratio to total number of observations is listed."
   ]
  },
  {
   "cell_type": "code",
   "execution_count": 18,
   "id": "dbaa5a1c",
   "metadata": {},
   "outputs": [],
   "source": [
    "null=df_merged.isnull().sum().sort_values(ascending = False)"
   ]
  },
  {
   "cell_type": "code",
   "execution_count": 19,
   "id": "7a6ae7f7",
   "metadata": {},
   "outputs": [],
   "source": [
    "df_null = pd.DataFrame(data=null, columns=['null_number'])"
   ]
  },
  {
   "cell_type": "code",
   "execution_count": 20,
   "id": "11638ded",
   "metadata": {},
   "outputs": [],
   "source": [
    "df_null[\"null_ratio\"]=df_null[\"null_number\"]/59175*100"
   ]
  },
  {
   "cell_type": "code",
   "execution_count": 21,
   "id": "cb882147",
   "metadata": {},
   "outputs": [
    {
     "data": {
      "text/html": [
       "<div>\n",
       "<style scoped>\n",
       "    .dataframe tbody tr th:only-of-type {\n",
       "        vertical-align: middle;\n",
       "    }\n",
       "\n",
       "    .dataframe tbody tr th {\n",
       "        vertical-align: top;\n",
       "    }\n",
       "\n",
       "    .dataframe thead th {\n",
       "        text-align: right;\n",
       "    }\n",
       "</style>\n",
       "<table border=\"1\" class=\"dataframe\">\n",
       "  <thead>\n",
       "    <tr style=\"text-align: right;\">\n",
       "      <th></th>\n",
       "      <th>null_number</th>\n",
       "      <th>null_ratio</th>\n",
       "    </tr>\n",
       "  </thead>\n",
       "  <tbody>\n",
       "    <tr>\n",
       "      <th>boe87free_ps_6</th>\n",
       "      <td>59175</td>\n",
       "      <td>100.0</td>\n",
       "    </tr>\n",
       "    <tr>\n",
       "      <th>be2ab_4</th>\n",
       "      <td>59175</td>\n",
       "      <td>100.0</td>\n",
       "    </tr>\n",
       "    <tr>\n",
       "      <th>be2ab_6</th>\n",
       "      <td>59175</td>\n",
       "      <td>100.0</td>\n",
       "    </tr>\n",
       "    <tr>\n",
       "      <th>be2ab_7</th>\n",
       "      <td>59175</td>\n",
       "      <td>100.0</td>\n",
       "    </tr>\n",
       "    <tr>\n",
       "      <th>be2ab_8</th>\n",
       "      <td>59175</td>\n",
       "      <td>100.0</td>\n",
       "    </tr>\n",
       "  </tbody>\n",
       "</table>\n",
       "</div>"
      ],
      "text/plain": [
       "                null_number  null_ratio\n",
       "boe87free_ps_6        59175       100.0\n",
       "be2ab_4               59175       100.0\n",
       "be2ab_6               59175       100.0\n",
       "be2ab_7               59175       100.0\n",
       "be2ab_8               59175       100.0"
      ]
     },
     "execution_count": 21,
     "metadata": {},
     "output_type": "execute_result"
    }
   ],
   "source": [
    "df_null.head()"
   ]
  },
  {
   "cell_type": "markdown",
   "id": "023bcea2",
   "metadata": {},
   "source": [
    "Also, I will look at number of features which has 0 missing values. There are only 24 features out of 1924 columns which has no missing observation."
   ]
  },
  {
   "cell_type": "code",
   "execution_count": 22,
   "id": "27d45f15",
   "metadata": {},
   "outputs": [
    {
     "data": {
      "text/html": [
       "<div>\n",
       "<style scoped>\n",
       "    .dataframe tbody tr th:only-of-type {\n",
       "        vertical-align: middle;\n",
       "    }\n",
       "\n",
       "    .dataframe tbody tr th {\n",
       "        vertical-align: top;\n",
       "    }\n",
       "\n",
       "    .dataframe thead th {\n",
       "        text-align: right;\n",
       "    }\n",
       "</style>\n",
       "<table border=\"1\" class=\"dataframe\">\n",
       "  <thead>\n",
       "    <tr style=\"text-align: right;\">\n",
       "      <th></th>\n",
       "      <th>null_number</th>\n",
       "      <th>null_ratio</th>\n",
       "    </tr>\n",
       "  </thead>\n",
       "  <tbody>\n",
       "    <tr>\n",
       "      <th>year</th>\n",
       "      <td>0</td>\n",
       "      <td>0.0</td>\n",
       "    </tr>\n",
       "    <tr>\n",
       "      <th>fgenage_1</th>\n",
       "      <td>0</td>\n",
       "      <td>0.0</td>\n",
       "    </tr>\n",
       "    <tr>\n",
       "      <th>dage</th>\n",
       "      <td>0</td>\n",
       "      <td>0.0</td>\n",
       "    </tr>\n",
       "    <tr>\n",
       "      <th>fgen</th>\n",
       "      <td>0</td>\n",
       "      <td>0.0</td>\n",
       "    </tr>\n",
       "    <tr>\n",
       "      <th>qhousing</th>\n",
       "      <td>0</td>\n",
       "      <td>0.0</td>\n",
       "    </tr>\n",
       "    <tr>\n",
       "      <th>dhousing</th>\n",
       "      <td>0</td>\n",
       "      <td>0.0</td>\n",
       "    </tr>\n",
       "    <tr>\n",
       "      <th>be13</th>\n",
       "      <td>0</td>\n",
       "      <td>0.0</td>\n",
       "    </tr>\n",
       "    <tr>\n",
       "      <th>dregion</th>\n",
       "      <td>0</td>\n",
       "      <td>0.0</td>\n",
       "    </tr>\n",
       "    <tr>\n",
       "      <th>be2a</th>\n",
       "      <td>0</td>\n",
       "      <td>0.0</td>\n",
       "    </tr>\n",
       "    <tr>\n",
       "      <th>qbe15_97</th>\n",
       "      <td>0</td>\n",
       "      <td>0.0</td>\n",
       "    </tr>\n",
       "    <tr>\n",
       "      <th>qbe15_3</th>\n",
       "      <td>0</td>\n",
       "      <td>0.0</td>\n",
       "    </tr>\n",
       "    <tr>\n",
       "      <th>be23</th>\n",
       "      <td>0</td>\n",
       "      <td>0.0</td>\n",
       "    </tr>\n",
       "    <tr>\n",
       "      <th>qbe15_4</th>\n",
       "      <td>0</td>\n",
       "      <td>0.0</td>\n",
       "    </tr>\n",
       "    <tr>\n",
       "      <th>qbe15_5</th>\n",
       "      <td>0</td>\n",
       "      <td>0.0</td>\n",
       "    </tr>\n",
       "    <tr>\n",
       "      <th>qbe15_6</th>\n",
       "      <td>0</td>\n",
       "      <td>0.0</td>\n",
       "    </tr>\n",
       "    <tr>\n",
       "      <th>qbe15_7</th>\n",
       "      <td>0</td>\n",
       "      <td>0.0</td>\n",
       "    </tr>\n",
       "    <tr>\n",
       "      <th>qregion</th>\n",
       "      <td>0</td>\n",
       "      <td>0.0</td>\n",
       "    </tr>\n",
       "    <tr>\n",
       "      <th>qbe15_8</th>\n",
       "      <td>0</td>\n",
       "      <td>0.0</td>\n",
       "    </tr>\n",
       "    <tr>\n",
       "      <th>qbe15_11</th>\n",
       "      <td>0</td>\n",
       "      <td>0.0</td>\n",
       "    </tr>\n",
       "    <tr>\n",
       "      <th>qbe15_9</th>\n",
       "      <td>0</td>\n",
       "      <td>0.0</td>\n",
       "    </tr>\n",
       "    <tr>\n",
       "      <th>qbe15_10</th>\n",
       "      <td>0</td>\n",
       "      <td>0.0</td>\n",
       "    </tr>\n",
       "    <tr>\n",
       "      <th>qbe15_96</th>\n",
       "      <td>0</td>\n",
       "      <td>0.0</td>\n",
       "    </tr>\n",
       "    <tr>\n",
       "      <th>fbe03</th>\n",
       "      <td>0</td>\n",
       "      <td>0.0</td>\n",
       "    </tr>\n",
       "    <tr>\n",
       "      <th>we_factor</th>\n",
       "      <td>0</td>\n",
       "      <td>0.0</td>\n",
       "    </tr>\n",
       "  </tbody>\n",
       "</table>\n",
       "</div>"
      ],
      "text/plain": [
       "           null_number  null_ratio\n",
       "year                 0         0.0\n",
       "fgenage_1            0         0.0\n",
       "dage                 0         0.0\n",
       "fgen                 0         0.0\n",
       "qhousing             0         0.0\n",
       "dhousing             0         0.0\n",
       "be13                 0         0.0\n",
       "dregion              0         0.0\n",
       "be2a                 0         0.0\n",
       "qbe15_97             0         0.0\n",
       "qbe15_3              0         0.0\n",
       "be23                 0         0.0\n",
       "qbe15_4              0         0.0\n",
       "qbe15_5              0         0.0\n",
       "qbe15_6              0         0.0\n",
       "qbe15_7              0         0.0\n",
       "qregion              0         0.0\n",
       "qbe15_8              0         0.0\n",
       "qbe15_11             0         0.0\n",
       "qbe15_9              0         0.0\n",
       "qbe15_10             0         0.0\n",
       "qbe15_96             0         0.0\n",
       "fbe03                0         0.0\n",
       "we_factor            0         0.0"
      ]
     },
     "execution_count": 22,
     "metadata": {},
     "output_type": "execute_result"
    }
   ],
   "source": [
    "df_null[df_null.null_ratio==0]"
   ]
  },
  {
   "cell_type": "markdown",
   "id": "5eb4b830",
   "metadata": {},
   "source": [
    "I will drop all features that have no observations in it."
   ]
  },
  {
   "cell_type": "code",
   "execution_count": 23,
   "id": "df597ae5",
   "metadata": {},
   "outputs": [
    {
     "data": {
      "text/html": [
       "<div>\n",
       "<style scoped>\n",
       "    .dataframe tbody tr th:only-of-type {\n",
       "        vertical-align: middle;\n",
       "    }\n",
       "\n",
       "    .dataframe tbody tr th {\n",
       "        vertical-align: top;\n",
       "    }\n",
       "\n",
       "    .dataframe thead th {\n",
       "        text-align: right;\n",
       "    }\n",
       "</style>\n",
       "<table border=\"1\" class=\"dataframe\">\n",
       "  <thead>\n",
       "    <tr style=\"text-align: right;\">\n",
       "      <th></th>\n",
       "      <th>be10b_hidden</th>\n",
       "      <th>boe87incomev2_13</th>\n",
       "      <th>boe87_bandsv1v2_13</th>\n",
       "      <th>boe87_bandsv1v2_7</th>\n",
       "      <th>boe87incomev2_7</th>\n",
       "      <th>boe87incomev2_3</th>\n",
       "      <th>boe87_bandsv1v2_3</th>\n",
       "      <th>boe87incomev2_12</th>\n",
       "      <th>boe87incomev2_99</th>\n",
       "      <th>boe87_bandsv1v2_12</th>\n",
       "      <th>...</th>\n",
       "      <th>qbe15_6</th>\n",
       "      <th>qbe15_7</th>\n",
       "      <th>qregion</th>\n",
       "      <th>qbe15_8</th>\n",
       "      <th>qbe15_11</th>\n",
       "      <th>qbe15_9</th>\n",
       "      <th>qbe15_10</th>\n",
       "      <th>qbe15_96</th>\n",
       "      <th>fbe03</th>\n",
       "      <th>we_factor</th>\n",
       "    </tr>\n",
       "  </thead>\n",
       "  <tbody>\n",
       "    <tr>\n",
       "      <th>0</th>\n",
       "      <td>NaN</td>\n",
       "      <td>NaN</td>\n",
       "      <td>NaN</td>\n",
       "      <td>NaN</td>\n",
       "      <td>NaN</td>\n",
       "      <td>NaN</td>\n",
       "      <td>NaN</td>\n",
       "      <td>NaN</td>\n",
       "      <td>NaN</td>\n",
       "      <td>NaN</td>\n",
       "      <td>...</td>\n",
       "      <td>0</td>\n",
       "      <td>1</td>\n",
       "      <td>4</td>\n",
       "      <td>0</td>\n",
       "      <td>0</td>\n",
       "      <td>1</td>\n",
       "      <td>0</td>\n",
       "      <td>0</td>\n",
       "      <td>1</td>\n",
       "      <td>1.176425</td>\n",
       "    </tr>\n",
       "    <tr>\n",
       "      <th>1</th>\n",
       "      <td>NaN</td>\n",
       "      <td>NaN</td>\n",
       "      <td>NaN</td>\n",
       "      <td>NaN</td>\n",
       "      <td>NaN</td>\n",
       "      <td>NaN</td>\n",
       "      <td>NaN</td>\n",
       "      <td>NaN</td>\n",
       "      <td>NaN</td>\n",
       "      <td>NaN</td>\n",
       "      <td>...</td>\n",
       "      <td>0</td>\n",
       "      <td>0</td>\n",
       "      <td>5</td>\n",
       "      <td>0</td>\n",
       "      <td>0</td>\n",
       "      <td>0</td>\n",
       "      <td>0</td>\n",
       "      <td>0</td>\n",
       "      <td>1</td>\n",
       "      <td>0.931040</td>\n",
       "    </tr>\n",
       "    <tr>\n",
       "      <th>2</th>\n",
       "      <td>NaN</td>\n",
       "      <td>NaN</td>\n",
       "      <td>NaN</td>\n",
       "      <td>NaN</td>\n",
       "      <td>NaN</td>\n",
       "      <td>NaN</td>\n",
       "      <td>NaN</td>\n",
       "      <td>NaN</td>\n",
       "      <td>NaN</td>\n",
       "      <td>NaN</td>\n",
       "      <td>...</td>\n",
       "      <td>0</td>\n",
       "      <td>0</td>\n",
       "      <td>5</td>\n",
       "      <td>0</td>\n",
       "      <td>0</td>\n",
       "      <td>0</td>\n",
       "      <td>0</td>\n",
       "      <td>0</td>\n",
       "      <td>1</td>\n",
       "      <td>1.181808</td>\n",
       "    </tr>\n",
       "    <tr>\n",
       "      <th>3</th>\n",
       "      <td>NaN</td>\n",
       "      <td>NaN</td>\n",
       "      <td>NaN</td>\n",
       "      <td>NaN</td>\n",
       "      <td>NaN</td>\n",
       "      <td>NaN</td>\n",
       "      <td>NaN</td>\n",
       "      <td>NaN</td>\n",
       "      <td>NaN</td>\n",
       "      <td>NaN</td>\n",
       "      <td>...</td>\n",
       "      <td>0</td>\n",
       "      <td>0</td>\n",
       "      <td>11</td>\n",
       "      <td>0</td>\n",
       "      <td>0</td>\n",
       "      <td>0</td>\n",
       "      <td>0</td>\n",
       "      <td>0</td>\n",
       "      <td>1</td>\n",
       "      <td>1.000213</td>\n",
       "    </tr>\n",
       "    <tr>\n",
       "      <th>4</th>\n",
       "      <td>NaN</td>\n",
       "      <td>NaN</td>\n",
       "      <td>NaN</td>\n",
       "      <td>NaN</td>\n",
       "      <td>NaN</td>\n",
       "      <td>NaN</td>\n",
       "      <td>NaN</td>\n",
       "      <td>NaN</td>\n",
       "      <td>NaN</td>\n",
       "      <td>NaN</td>\n",
       "      <td>...</td>\n",
       "      <td>0</td>\n",
       "      <td>0</td>\n",
       "      <td>1</td>\n",
       "      <td>0</td>\n",
       "      <td>0</td>\n",
       "      <td>0</td>\n",
       "      <td>0</td>\n",
       "      <td>0</td>\n",
       "      <td>1</td>\n",
       "      <td>0.913671</td>\n",
       "    </tr>\n",
       "  </tbody>\n",
       "</table>\n",
       "<p>5 rows × 1461 columns</p>\n",
       "</div>"
      ],
      "text/plain": [
       "   be10b_hidden  boe87incomev2_13  boe87_bandsv1v2_13  boe87_bandsv1v2_7  \\\n",
       "0           NaN               NaN                 NaN                NaN   \n",
       "1           NaN               NaN                 NaN                NaN   \n",
       "2           NaN               NaN                 NaN                NaN   \n",
       "3           NaN               NaN                 NaN                NaN   \n",
       "4           NaN               NaN                 NaN                NaN   \n",
       "\n",
       "   boe87incomev2_7  boe87incomev2_3  boe87_bandsv1v2_3  boe87incomev2_12  \\\n",
       "0              NaN              NaN                NaN               NaN   \n",
       "1              NaN              NaN                NaN               NaN   \n",
       "2              NaN              NaN                NaN               NaN   \n",
       "3              NaN              NaN                NaN               NaN   \n",
       "4              NaN              NaN                NaN               NaN   \n",
       "\n",
       "   boe87incomev2_99  boe87_bandsv1v2_12  ...  qbe15_6  qbe15_7  qregion  \\\n",
       "0               NaN                 NaN  ...        0        1        4   \n",
       "1               NaN                 NaN  ...        0        0        5   \n",
       "2               NaN                 NaN  ...        0        0        5   \n",
       "3               NaN                 NaN  ...        0        0       11   \n",
       "4               NaN                 NaN  ...        0        0        1   \n",
       "\n",
       "   qbe15_8  qbe15_11  qbe15_9  qbe15_10  qbe15_96  fbe03  we_factor  \n",
       "0        0         0        1         0         0      1   1.176425  \n",
       "1        0         0        0         0         0      1   0.931040  \n",
       "2        0         0        0         0         0      1   1.181808  \n",
       "3        0         0        0         0         0      1   1.000213  \n",
       "4        0         0        0         0         0      1   0.913671  \n",
       "\n",
       "[5 rows x 1461 columns]"
      ]
     },
     "execution_count": 23,
     "metadata": {},
     "output_type": "execute_result"
    }
   ],
   "source": [
    "df_merged2=df_merged[df_null[df_null.null_ratio!=100].index]\n",
    "df_merged2.head()"
   ]
  },
  {
   "cell_type": "markdown",
   "id": "d747dae4",
   "metadata": {},
   "source": [
    "We have left with 1461 features, now we can focus on the features that is topic of analysis: household income and other 4-5 variables. <br> Features related to household income are qincome,qincome_v1,qincome_v2,qincome_free,qincomefree_v2. Let's check how these features evolve across years."
   ]
  },
  {
   "cell_type": "markdown",
   "id": "7dde25e0",
   "metadata": {},
   "source": [
    "As there are several variables related to income in data, I wanted to check all variables to see whether we can use them across 2011-2021 meaningfully."
   ]
  },
  {
   "cell_type": "code",
   "execution_count": 24,
   "id": "bcd5dff7",
   "metadata": {},
   "outputs": [],
   "source": [
    "df_merged2[\"qincomefreev2_calc\"]=df_merged2[\"qincomefreev2_n_1\"]+df_merged2[\"qincomefreev2_n_2\"]+df_merged2[\"qincomefreev2_n_3\"]"
   ]
  },
  {
   "cell_type": "code",
   "execution_count": 25,
   "id": "264fe7a3",
   "metadata": {},
   "outputs": [],
   "source": [
    "#var_income=list(df_merged2.columns[df_merged2.columns.str.contains(\"income\")])\n",
    "var_income=[\"qincome\",\"qincomev1\",\"qincomev2_1_1\",\"qincomefree_1\",\"qincomefreev2_n_1\",\"qincomefreev2_n_2\",\"qincomefreev2_n_3\",\"qincomefreev2_calc\",\"hincomev2_1\",\"hincomev2_2\",\"hincomev2_3\",\"incomev2comb\",\"combincome\"]\n",
    "var_income.append(\"year\")\n",
    "var_income.sort()"
   ]
  },
  {
   "cell_type": "code",
   "execution_count": 26,
   "id": "30497934",
   "metadata": {},
   "outputs": [
    {
     "data": {
      "text/html": [
       "<div>\n",
       "<style scoped>\n",
       "    .dataframe tbody tr th:only-of-type {\n",
       "        vertical-align: middle;\n",
       "    }\n",
       "\n",
       "    .dataframe tbody tr th {\n",
       "        vertical-align: top;\n",
       "    }\n",
       "\n",
       "    .dataframe thead th {\n",
       "        text-align: right;\n",
       "    }\n",
       "</style>\n",
       "<table border=\"1\" class=\"dataframe\">\n",
       "  <thead>\n",
       "    <tr style=\"text-align: right;\">\n",
       "      <th></th>\n",
       "      <th>combincome</th>\n",
       "      <th>hincomev2_1</th>\n",
       "      <th>hincomev2_2</th>\n",
       "      <th>hincomev2_3</th>\n",
       "      <th>incomev2comb</th>\n",
       "      <th>qincome</th>\n",
       "      <th>qincomefree_1</th>\n",
       "      <th>qincomefreev2_calc</th>\n",
       "      <th>qincomefreev2_n_1</th>\n",
       "      <th>qincomefreev2_n_2</th>\n",
       "      <th>qincomefreev2_n_3</th>\n",
       "      <th>qincomev1</th>\n",
       "      <th>qincomev2_1_1</th>\n",
       "    </tr>\n",
       "    <tr>\n",
       "      <th>year</th>\n",
       "      <th></th>\n",
       "      <th></th>\n",
       "      <th></th>\n",
       "      <th></th>\n",
       "      <th></th>\n",
       "      <th></th>\n",
       "      <th></th>\n",
       "      <th></th>\n",
       "      <th></th>\n",
       "      <th></th>\n",
       "      <th></th>\n",
       "      <th></th>\n",
       "      <th></th>\n",
       "    </tr>\n",
       "  </thead>\n",
       "  <tbody>\n",
       "    <tr>\n",
       "      <th>2011</th>\n",
       "      <td>NaN</td>\n",
       "      <td>NaN</td>\n",
       "      <td>NaN</td>\n",
       "      <td>NaN</td>\n",
       "      <td>NaN</td>\n",
       "      <td>16.504523</td>\n",
       "      <td>NaN</td>\n",
       "      <td>NaN</td>\n",
       "      <td>NaN</td>\n",
       "      <td>NaN</td>\n",
       "      <td>NaN</td>\n",
       "      <td>NaN</td>\n",
       "      <td>NaN</td>\n",
       "    </tr>\n",
       "    <tr>\n",
       "      <th>2012</th>\n",
       "      <td>NaN</td>\n",
       "      <td>NaN</td>\n",
       "      <td>NaN</td>\n",
       "      <td>NaN</td>\n",
       "      <td>NaN</td>\n",
       "      <td>16.782913</td>\n",
       "      <td>NaN</td>\n",
       "      <td>NaN</td>\n",
       "      <td>NaN</td>\n",
       "      <td>NaN</td>\n",
       "      <td>NaN</td>\n",
       "      <td>NaN</td>\n",
       "      <td>NaN</td>\n",
       "    </tr>\n",
       "    <tr>\n",
       "      <th>2013</th>\n",
       "      <td>NaN</td>\n",
       "      <td>NaN</td>\n",
       "      <td>NaN</td>\n",
       "      <td>NaN</td>\n",
       "      <td>NaN</td>\n",
       "      <td>16.729271</td>\n",
       "      <td>41376.935119</td>\n",
       "      <td>NaN</td>\n",
       "      <td>NaN</td>\n",
       "      <td>NaN</td>\n",
       "      <td>NaN</td>\n",
       "      <td>NaN</td>\n",
       "      <td>NaN</td>\n",
       "    </tr>\n",
       "    <tr>\n",
       "      <th>2014</th>\n",
       "      <td>NaN</td>\n",
       "      <td>NaN</td>\n",
       "      <td>NaN</td>\n",
       "      <td>NaN</td>\n",
       "      <td>NaN</td>\n",
       "      <td>17.821030</td>\n",
       "      <td>36633.515647</td>\n",
       "      <td>NaN</td>\n",
       "      <td>NaN</td>\n",
       "      <td>NaN</td>\n",
       "      <td>NaN</td>\n",
       "      <td>NaN</td>\n",
       "      <td>NaN</td>\n",
       "    </tr>\n",
       "    <tr>\n",
       "      <th>2015</th>\n",
       "      <td>NaN</td>\n",
       "      <td>10.050400</td>\n",
       "      <td>9.552790</td>\n",
       "      <td>8.876136</td>\n",
       "      <td>12.697602</td>\n",
       "      <td>NaN</td>\n",
       "      <td>37111.741182</td>\n",
       "      <td>53395.743073</td>\n",
       "      <td>21564.103796</td>\n",
       "      <td>18476.158967</td>\n",
       "      <td>17233.613636</td>\n",
       "      <td>11.233227</td>\n",
       "      <td>11.371859</td>\n",
       "    </tr>\n",
       "    <tr>\n",
       "      <th>2016</th>\n",
       "      <td>NaN</td>\n",
       "      <td>9.969889</td>\n",
       "      <td>9.525644</td>\n",
       "      <td>8.803180</td>\n",
       "      <td>12.590584</td>\n",
       "      <td>NaN</td>\n",
       "      <td>NaN</td>\n",
       "      <td>56333.778607</td>\n",
       "      <td>22104.384303</td>\n",
       "      <td>19046.750259</td>\n",
       "      <td>15658.438497</td>\n",
       "      <td>NaN</td>\n",
       "      <td>11.036284</td>\n",
       "    </tr>\n",
       "    <tr>\n",
       "      <th>2017</th>\n",
       "      <td>671.520398</td>\n",
       "      <td>9.781987</td>\n",
       "      <td>9.746865</td>\n",
       "      <td>8.956474</td>\n",
       "      <td>12.559987</td>\n",
       "      <td>NaN</td>\n",
       "      <td>NaN</td>\n",
       "      <td>58039.706349</td>\n",
       "      <td>22074.775710</td>\n",
       "      <td>20146.470852</td>\n",
       "      <td>15748.132300</td>\n",
       "      <td>NaN</td>\n",
       "      <td>10.819923</td>\n",
       "    </tr>\n",
       "    <tr>\n",
       "      <th>2018</th>\n",
       "      <td>731.733399</td>\n",
       "      <td>10.095000</td>\n",
       "      <td>9.914708</td>\n",
       "      <td>8.957284</td>\n",
       "      <td>12.794500</td>\n",
       "      <td>NaN</td>\n",
       "      <td>NaN</td>\n",
       "      <td>62129.710875</td>\n",
       "      <td>24716.298452</td>\n",
       "      <td>21429.505104</td>\n",
       "      <td>16377.762530</td>\n",
       "      <td>NaN</td>\n",
       "      <td>11.023328</td>\n",
       "    </tr>\n",
       "    <tr>\n",
       "      <th>2019</th>\n",
       "      <td>722.720517</td>\n",
       "      <td>10.098000</td>\n",
       "      <td>9.779473</td>\n",
       "      <td>8.884615</td>\n",
       "      <td>12.773591</td>\n",
       "      <td>NaN</td>\n",
       "      <td>NaN</td>\n",
       "      <td>61527.681046</td>\n",
       "      <td>37282.195140</td>\n",
       "      <td>21684.883894</td>\n",
       "      <td>15106.296610</td>\n",
       "      <td>NaN</td>\n",
       "      <td>10.753562</td>\n",
       "    </tr>\n",
       "    <tr>\n",
       "      <th>2020</th>\n",
       "      <td>698.321668</td>\n",
       "      <td>9.945789</td>\n",
       "      <td>9.290446</td>\n",
       "      <td>7.812107</td>\n",
       "      <td>12.507294</td>\n",
       "      <td>NaN</td>\n",
       "      <td>NaN</td>\n",
       "      <td>57151.862697</td>\n",
       "      <td>24770.035273</td>\n",
       "      <td>20349.513764</td>\n",
       "      <td>12075.324690</td>\n",
       "      <td>NaN</td>\n",
       "      <td>10.372326</td>\n",
       "    </tr>\n",
       "    <tr>\n",
       "      <th>2021</th>\n",
       "      <td>705.804924</td>\n",
       "      <td>10.069245</td>\n",
       "      <td>9.200553</td>\n",
       "      <td>7.374340</td>\n",
       "      <td>12.456949</td>\n",
       "      <td>NaN</td>\n",
       "      <td>NaN</td>\n",
       "      <td>60037.401124</td>\n",
       "      <td>26138.062500</td>\n",
       "      <td>20483.596011</td>\n",
       "      <td>11458.933333</td>\n",
       "      <td>NaN</td>\n",
       "      <td>10.470018</td>\n",
       "    </tr>\n",
       "  </tbody>\n",
       "</table>\n",
       "</div>"
      ],
      "text/plain": [
       "      combincome  hincomev2_1  hincomev2_2  hincomev2_3  incomev2comb  \\\n",
       "year                                                                    \n",
       "2011         NaN          NaN          NaN          NaN           NaN   \n",
       "2012         NaN          NaN          NaN          NaN           NaN   \n",
       "2013         NaN          NaN          NaN          NaN           NaN   \n",
       "2014         NaN          NaN          NaN          NaN           NaN   \n",
       "2015         NaN    10.050400     9.552790     8.876136     12.697602   \n",
       "2016         NaN     9.969889     9.525644     8.803180     12.590584   \n",
       "2017  671.520398     9.781987     9.746865     8.956474     12.559987   \n",
       "2018  731.733399    10.095000     9.914708     8.957284     12.794500   \n",
       "2019  722.720517    10.098000     9.779473     8.884615     12.773591   \n",
       "2020  698.321668     9.945789     9.290446     7.812107     12.507294   \n",
       "2021  705.804924    10.069245     9.200553     7.374340     12.456949   \n",
       "\n",
       "        qincome  qincomefree_1  qincomefreev2_calc  qincomefreev2_n_1  \\\n",
       "year                                                                    \n",
       "2011  16.504523            NaN                 NaN                NaN   \n",
       "2012  16.782913            NaN                 NaN                NaN   \n",
       "2013  16.729271   41376.935119                 NaN                NaN   \n",
       "2014  17.821030   36633.515647                 NaN                NaN   \n",
       "2015        NaN   37111.741182        53395.743073       21564.103796   \n",
       "2016        NaN            NaN        56333.778607       22104.384303   \n",
       "2017        NaN            NaN        58039.706349       22074.775710   \n",
       "2018        NaN            NaN        62129.710875       24716.298452   \n",
       "2019        NaN            NaN        61527.681046       37282.195140   \n",
       "2020        NaN            NaN        57151.862697       24770.035273   \n",
       "2021        NaN            NaN        60037.401124       26138.062500   \n",
       "\n",
       "      qincomefreev2_n_2  qincomefreev2_n_3  qincomev1  qincomev2_1_1  \n",
       "year                                                                  \n",
       "2011                NaN                NaN        NaN            NaN  \n",
       "2012                NaN                NaN        NaN            NaN  \n",
       "2013                NaN                NaN        NaN            NaN  \n",
       "2014                NaN                NaN        NaN            NaN  \n",
       "2015       18476.158967       17233.613636  11.233227      11.371859  \n",
       "2016       19046.750259       15658.438497        NaN      11.036284  \n",
       "2017       20146.470852       15748.132300        NaN      10.819923  \n",
       "2018       21429.505104       16377.762530        NaN      11.023328  \n",
       "2019       21684.883894       15106.296610        NaN      10.753562  \n",
       "2020       20349.513764       12075.324690        NaN      10.372326  \n",
       "2021       20483.596011       11458.933333        NaN      10.470018  "
      ]
     },
     "execution_count": 26,
     "metadata": {},
     "output_type": "execute_result"
    }
   ],
   "source": [
    "df_merged2[var_income].groupby(by=\"year\").mean()"
   ]
  },
  {
   "cell_type": "markdown",
   "id": "b0eb5183",
   "metadata": {},
   "source": [
    "For the year 2011 and 2012, there is only categorical income feature available for analysis. For other years, there are  both categorical and continuous features related to income. For comparison between 2011 and 2021, I have to use categorical ones. I will use 2015 and afterwards to see trend of household income."
   ]
  },
  {
   "cell_type": "markdown",
   "id": "660b4451",
   "metadata": {},
   "source": [
    "Now, I want to look at availability of social variables such as working status, age group, gender and marital status across years."
   ]
  },
  {
   "cell_type": "code",
   "execution_count": 27,
   "id": "3c67dfed",
   "metadata": {},
   "outputs": [
    {
     "data": {
      "text/html": [
       "<div>\n",
       "<style scoped>\n",
       "    .dataframe tbody tr th:only-of-type {\n",
       "        vertical-align: middle;\n",
       "    }\n",
       "\n",
       "    .dataframe tbody tr th {\n",
       "        vertical-align: top;\n",
       "    }\n",
       "\n",
       "    .dataframe thead th {\n",
       "        text-align: right;\n",
       "    }\n",
       "</style>\n",
       "<table border=\"1\" class=\"dataframe\">\n",
       "  <thead>\n",
       "    <tr style=\"text-align: right;\">\n",
       "      <th></th>\n",
       "      <th>dage</th>\n",
       "      <th>fgen</th>\n",
       "      <th>qmarital</th>\n",
       "      <th>workingstatus</th>\n",
       "      <th>a20workingstatus</th>\n",
       "      <th>qworking</th>\n",
       "      <th>dworking</th>\n",
       "      <th>a20dworking</th>\n",
       "      <th>dhousing</th>\n",
       "    </tr>\n",
       "    <tr>\n",
       "      <th>year</th>\n",
       "      <th></th>\n",
       "      <th></th>\n",
       "      <th></th>\n",
       "      <th></th>\n",
       "      <th></th>\n",
       "      <th></th>\n",
       "      <th></th>\n",
       "      <th></th>\n",
       "      <th></th>\n",
       "    </tr>\n",
       "  </thead>\n",
       "  <tbody>\n",
       "    <tr>\n",
       "      <th>2011</th>\n",
       "      <td>3.676382</td>\n",
       "      <td>1.545729</td>\n",
       "      <td>2.093467</td>\n",
       "      <td>NaN</td>\n",
       "      <td>NaN</td>\n",
       "      <td>5.068342</td>\n",
       "      <td>1.454271</td>\n",
       "      <td>NaN</td>\n",
       "      <td>3.450251</td>\n",
       "    </tr>\n",
       "    <tr>\n",
       "      <th>2012</th>\n",
       "      <td>3.706970</td>\n",
       "      <td>1.515613</td>\n",
       "      <td>2.362728</td>\n",
       "      <td>NaN</td>\n",
       "      <td>NaN</td>\n",
       "      <td>5.162878</td>\n",
       "      <td>1.438171</td>\n",
       "      <td>NaN</td>\n",
       "      <td>3.592805</td>\n",
       "    </tr>\n",
       "    <tr>\n",
       "      <th>2013</th>\n",
       "      <td>3.704296</td>\n",
       "      <td>1.509158</td>\n",
       "      <td>2.308358</td>\n",
       "      <td>NaN</td>\n",
       "      <td>NaN</td>\n",
       "      <td>5.192141</td>\n",
       "      <td>1.438561</td>\n",
       "      <td>NaN</td>\n",
       "      <td>4.035798</td>\n",
       "    </tr>\n",
       "    <tr>\n",
       "      <th>2014</th>\n",
       "      <td>3.816531</td>\n",
       "      <td>1.486086</td>\n",
       "      <td>NaN</td>\n",
       "      <td>3.491918</td>\n",
       "      <td>NaN</td>\n",
       "      <td>NaN</td>\n",
       "      <td>1.443426</td>\n",
       "      <td>NaN</td>\n",
       "      <td>2.925846</td>\n",
       "    </tr>\n",
       "    <tr>\n",
       "      <th>2015</th>\n",
       "      <td>3.738472</td>\n",
       "      <td>1.507907</td>\n",
       "      <td>NaN</td>\n",
       "      <td>3.323955</td>\n",
       "      <td>NaN</td>\n",
       "      <td>NaN</td>\n",
       "      <td>1.412519</td>\n",
       "      <td>NaN</td>\n",
       "      <td>3.178791</td>\n",
       "    </tr>\n",
       "    <tr>\n",
       "      <th>2016</th>\n",
       "      <td>3.811180</td>\n",
       "      <td>1.505240</td>\n",
       "      <td>NaN</td>\n",
       "      <td>3.348361</td>\n",
       "      <td>NaN</td>\n",
       "      <td>NaN</td>\n",
       "      <td>1.412577</td>\n",
       "      <td>NaN</td>\n",
       "      <td>3.199301</td>\n",
       "    </tr>\n",
       "    <tr>\n",
       "      <th>2017</th>\n",
       "      <td>3.807245</td>\n",
       "      <td>1.537554</td>\n",
       "      <td>NaN</td>\n",
       "      <td>3.555334</td>\n",
       "      <td>NaN</td>\n",
       "      <td>NaN</td>\n",
       "      <td>1.447657</td>\n",
       "      <td>NaN</td>\n",
       "      <td>2.906115</td>\n",
       "    </tr>\n",
       "    <tr>\n",
       "      <th>2018</th>\n",
       "      <td>3.884833</td>\n",
       "      <td>1.532167</td>\n",
       "      <td>NaN</td>\n",
       "      <td>3.314167</td>\n",
       "      <td>NaN</td>\n",
       "      <td>NaN</td>\n",
       "      <td>1.399167</td>\n",
       "      <td>NaN</td>\n",
       "      <td>2.751000</td>\n",
       "    </tr>\n",
       "    <tr>\n",
       "      <th>2019</th>\n",
       "      <td>4.027764</td>\n",
       "      <td>1.514295</td>\n",
       "      <td>NaN</td>\n",
       "      <td>3.483556</td>\n",
       "      <td>NaN</td>\n",
       "      <td>NaN</td>\n",
       "      <td>1.437118</td>\n",
       "      <td>NaN</td>\n",
       "      <td>2.783507</td>\n",
       "    </tr>\n",
       "    <tr>\n",
       "      <th>2020</th>\n",
       "      <td>3.844662</td>\n",
       "      <td>1.511273</td>\n",
       "      <td>NaN</td>\n",
       "      <td>NaN</td>\n",
       "      <td>4.249337</td>\n",
       "      <td>NaN</td>\n",
       "      <td>NaN</td>\n",
       "      <td>1.401359</td>\n",
       "      <td>2.883952</td>\n",
       "    </tr>\n",
       "    <tr>\n",
       "      <th>2021</th>\n",
       "      <td>3.908445</td>\n",
       "      <td>1.603867</td>\n",
       "      <td>NaN</td>\n",
       "      <td>NaN</td>\n",
       "      <td>4.454801</td>\n",
       "      <td>NaN</td>\n",
       "      <td>NaN</td>\n",
       "      <td>1.432821</td>\n",
       "      <td>2.849281</td>\n",
       "    </tr>\n",
       "  </tbody>\n",
       "</table>\n",
       "</div>"
      ],
      "text/plain": [
       "          dage      fgen  qmarital  workingstatus  a20workingstatus  qworking  \\\n",
       "year                                                                            \n",
       "2011  3.676382  1.545729  2.093467            NaN               NaN  5.068342   \n",
       "2012  3.706970  1.515613  2.362728            NaN               NaN  5.162878   \n",
       "2013  3.704296  1.509158  2.308358            NaN               NaN  5.192141   \n",
       "2014  3.816531  1.486086       NaN       3.491918               NaN       NaN   \n",
       "2015  3.738472  1.507907       NaN       3.323955               NaN       NaN   \n",
       "2016  3.811180  1.505240       NaN       3.348361               NaN       NaN   \n",
       "2017  3.807245  1.537554       NaN       3.555334               NaN       NaN   \n",
       "2018  3.884833  1.532167       NaN       3.314167               NaN       NaN   \n",
       "2019  4.027764  1.514295       NaN       3.483556               NaN       NaN   \n",
       "2020  3.844662  1.511273       NaN            NaN          4.249337       NaN   \n",
       "2021  3.908445  1.603867       NaN            NaN          4.454801       NaN   \n",
       "\n",
       "      dworking  a20dworking  dhousing  \n",
       "year                                   \n",
       "2011  1.454271          NaN  3.450251  \n",
       "2012  1.438171          NaN  3.592805  \n",
       "2013  1.438561          NaN  4.035798  \n",
       "2014  1.443426          NaN  2.925846  \n",
       "2015  1.412519          NaN  3.178791  \n",
       "2016  1.412577          NaN  3.199301  \n",
       "2017  1.447657          NaN  2.906115  \n",
       "2018  1.399167          NaN  2.751000  \n",
       "2019  1.437118          NaN  2.783507  \n",
       "2020       NaN     1.401359  2.883952  \n",
       "2021       NaN     1.432821  2.849281  "
      ]
     },
     "execution_count": 27,
     "metadata": {},
     "output_type": "execute_result"
    }
   ],
   "source": [
    "df_merged2[[\"dage\",\"fgen\",\"qmarital\",\"workingstatus\",\"a20workingstatus\",\"qworking\",\"dworking\",\"a20dworking\",\"dhousing\",\"year\"]].groupby(by=\"year\").mean()"
   ]
  },
  {
   "cell_type": "markdown",
   "id": "940bfc84",
   "metadata": {},
   "source": [
    "I want to look at savings of these individuals, too."
   ]
  },
  {
   "cell_type": "code",
   "execution_count": 28,
   "id": "984a05dd",
   "metadata": {},
   "outputs": [
    {
     "data": {
      "text/html": [
       "<div>\n",
       "<style scoped>\n",
       "    .dataframe tbody tr th:only-of-type {\n",
       "        vertical-align: middle;\n",
       "    }\n",
       "\n",
       "    .dataframe tbody tr th {\n",
       "        vertical-align: top;\n",
       "    }\n",
       "\n",
       "    .dataframe thead th {\n",
       "        text-align: right;\n",
       "    }\n",
       "</style>\n",
       "<table border=\"1\" class=\"dataframe\">\n",
       "  <thead>\n",
       "    <tr style=\"text-align: right;\">\n",
       "      <th></th>\n",
       "      <th>be2a_hidden</th>\n",
       "      <th>be2afree_1</th>\n",
       "      <th>be2afree_dk_1</th>\n",
       "      <th>be2afree_dk_2</th>\n",
       "      <th>be2a</th>\n",
       "    </tr>\n",
       "    <tr>\n",
       "      <th>year</th>\n",
       "      <th></th>\n",
       "      <th></th>\n",
       "      <th></th>\n",
       "      <th></th>\n",
       "      <th></th>\n",
       "    </tr>\n",
       "  </thead>\n",
       "  <tbody>\n",
       "    <tr>\n",
       "      <th>2011</th>\n",
       "      <td>NaN</td>\n",
       "      <td>NaN</td>\n",
       "      <td>NaN</td>\n",
       "      <td>NaN</td>\n",
       "      <td>11.162814</td>\n",
       "    </tr>\n",
       "    <tr>\n",
       "      <th>2012</th>\n",
       "      <td>NaN</td>\n",
       "      <td>NaN</td>\n",
       "      <td>NaN</td>\n",
       "      <td>NaN</td>\n",
       "      <td>10.191856</td>\n",
       "    </tr>\n",
       "    <tr>\n",
       "      <th>2013</th>\n",
       "      <td>1.282317</td>\n",
       "      <td>810.491196</td>\n",
       "      <td>0.180997</td>\n",
       "      <td>0.072563</td>\n",
       "      <td>13.692807</td>\n",
       "    </tr>\n",
       "    <tr>\n",
       "      <th>2014</th>\n",
       "      <td>NaN</td>\n",
       "      <td>862.085217</td>\n",
       "      <td>0.215631</td>\n",
       "      <td>0.113648</td>\n",
       "      <td>18.122480</td>\n",
       "    </tr>\n",
       "    <tr>\n",
       "      <th>2015</th>\n",
       "      <td>NaN</td>\n",
       "      <td>1223.641988</td>\n",
       "      <td>0.224738</td>\n",
       "      <td>0.132179</td>\n",
       "      <td>19.006825</td>\n",
       "    </tr>\n",
       "    <tr>\n",
       "      <th>2016</th>\n",
       "      <td>NaN</td>\n",
       "      <td>1713.429094</td>\n",
       "      <td>0.245051</td>\n",
       "      <td>0.163700</td>\n",
       "      <td>20.104475</td>\n",
       "    </tr>\n",
       "    <tr>\n",
       "      <th>2017</th>\n",
       "      <td>NaN</td>\n",
       "      <td>2523.003298</td>\n",
       "      <td>0.237288</td>\n",
       "      <td>0.158026</td>\n",
       "      <td>17.988202</td>\n",
       "    </tr>\n",
       "    <tr>\n",
       "      <th>2018</th>\n",
       "      <td>NaN</td>\n",
       "      <td>1756.278768</td>\n",
       "      <td>0.303167</td>\n",
       "      <td>0.145000</td>\n",
       "      <td>20.039167</td>\n",
       "    </tr>\n",
       "    <tr>\n",
       "      <th>2019</th>\n",
       "      <td>NaN</td>\n",
       "      <td>1199.499859</td>\n",
       "      <td>0.274996</td>\n",
       "      <td>0.139151</td>\n",
       "      <td>20.083292</td>\n",
       "    </tr>\n",
       "    <tr>\n",
       "      <th>2020</th>\n",
       "      <td>NaN</td>\n",
       "      <td>1947.913004</td>\n",
       "      <td>0.315153</td>\n",
       "      <td>0.137931</td>\n",
       "      <td>22.171088</td>\n",
       "    </tr>\n",
       "    <tr>\n",
       "      <th>2021</th>\n",
       "      <td>NaN</td>\n",
       "      <td>1630.364248</td>\n",
       "      <td>0.270534</td>\n",
       "      <td>0.139646</td>\n",
       "      <td>19.668319</td>\n",
       "    </tr>\n",
       "  </tbody>\n",
       "</table>\n",
       "</div>"
      ],
      "text/plain": [
       "      be2a_hidden   be2afree_1  be2afree_dk_1  be2afree_dk_2       be2a\n",
       "year                                                                   \n",
       "2011          NaN          NaN            NaN            NaN  11.162814\n",
       "2012          NaN          NaN            NaN            NaN  10.191856\n",
       "2013     1.282317   810.491196       0.180997       0.072563  13.692807\n",
       "2014          NaN   862.085217       0.215631       0.113648  18.122480\n",
       "2015          NaN  1223.641988       0.224738       0.132179  19.006825\n",
       "2016          NaN  1713.429094       0.245051       0.163700  20.104475\n",
       "2017          NaN  2523.003298       0.237288       0.158026  17.988202\n",
       "2018          NaN  1756.278768       0.303167       0.145000  20.039167\n",
       "2019          NaN  1199.499859       0.274996       0.139151  20.083292\n",
       "2020          NaN  1947.913004       0.315153       0.137931  22.171088\n",
       "2021          NaN  1630.364248       0.270534       0.139646  19.668319"
      ]
     },
     "execution_count": 28,
     "metadata": {},
     "output_type": "execute_result"
    }
   ],
   "source": [
    "var_saving=list(df_merged2.columns[df_merged2.columns.str.contains(\"be2a\")])\n",
    "var_saving.append(\"year\")\n",
    "df_merged2[var_saving].groupby(by=\"year\").mean()"
   ]
  },
  {
   "cell_type": "code",
   "execution_count": 29,
   "id": "775d9f71",
   "metadata": {},
   "outputs": [
    {
     "data": {
      "text/html": [
       "<div>\n",
       "<style scoped>\n",
       "    .dataframe tbody tr th:only-of-type {\n",
       "        vertical-align: middle;\n",
       "    }\n",
       "\n",
       "    .dataframe tbody tr th {\n",
       "        vertical-align: top;\n",
       "    }\n",
       "\n",
       "    .dataframe thead th {\n",
       "        text-align: right;\n",
       "    }\n",
       "</style>\n",
       "<table border=\"1\" class=\"dataframe\">\n",
       "  <thead>\n",
       "    <tr style=\"text-align: right;\">\n",
       "      <th></th>\n",
       "      <th>be24</th>\n",
       "      <th>boe60a</th>\n",
       "      <th>boe62a</th>\n",
       "      <th>boe55</th>\n",
       "      <th>boe65b</th>\n",
       "      <th>mq08</th>\n",
       "    </tr>\n",
       "    <tr>\n",
       "      <th>year</th>\n",
       "      <th></th>\n",
       "      <th></th>\n",
       "      <th></th>\n",
       "      <th></th>\n",
       "      <th></th>\n",
       "      <th></th>\n",
       "    </tr>\n",
       "  </thead>\n",
       "  <tbody>\n",
       "    <tr>\n",
       "      <th>2011</th>\n",
       "      <td>11.141709</td>\n",
       "      <td>NaN</td>\n",
       "      <td>NaN</td>\n",
       "      <td>NaN</td>\n",
       "      <td>NaN</td>\n",
       "      <td>NaN</td>\n",
       "    </tr>\n",
       "    <tr>\n",
       "      <th>2012</th>\n",
       "      <td>9.760180</td>\n",
       "      <td>NaN</td>\n",
       "      <td>NaN</td>\n",
       "      <td>NaN</td>\n",
       "      <td>NaN</td>\n",
       "      <td>NaN</td>\n",
       "    </tr>\n",
       "    <tr>\n",
       "      <th>2013</th>\n",
       "      <td>9.399267</td>\n",
       "      <td>NaN</td>\n",
       "      <td>NaN</td>\n",
       "      <td>NaN</td>\n",
       "      <td>NaN</td>\n",
       "      <td>NaN</td>\n",
       "    </tr>\n",
       "    <tr>\n",
       "      <th>2014</th>\n",
       "      <td>NaN</td>\n",
       "      <td>NaN</td>\n",
       "      <td>NaN</td>\n",
       "      <td>2.269288</td>\n",
       "      <td>19.552741</td>\n",
       "      <td>NaN</td>\n",
       "    </tr>\n",
       "    <tr>\n",
       "      <th>2015</th>\n",
       "      <td>NaN</td>\n",
       "      <td>1.933743</td>\n",
       "      <td>1.758876</td>\n",
       "      <td>2.108041</td>\n",
       "      <td>18.005161</td>\n",
       "      <td>3.292992</td>\n",
       "    </tr>\n",
       "    <tr>\n",
       "      <th>2016</th>\n",
       "      <td>NaN</td>\n",
       "      <td>1.980467</td>\n",
       "      <td>1.731013</td>\n",
       "      <td>2.266345</td>\n",
       "      <td>19.129263</td>\n",
       "      <td>3.581933</td>\n",
       "    </tr>\n",
       "    <tr>\n",
       "      <th>2017</th>\n",
       "      <td>NaN</td>\n",
       "      <td>1.992220</td>\n",
       "      <td>1.681431</td>\n",
       "      <td>2.138252</td>\n",
       "      <td>17.741609</td>\n",
       "      <td>3.756065</td>\n",
       "    </tr>\n",
       "    <tr>\n",
       "      <th>2018</th>\n",
       "      <td>NaN</td>\n",
       "      <td>2.022379</td>\n",
       "      <td>1.758373</td>\n",
       "      <td>2.143167</td>\n",
       "      <td>17.777333</td>\n",
       "      <td>3.739333</td>\n",
       "    </tr>\n",
       "    <tr>\n",
       "      <th>2019</th>\n",
       "      <td>NaN</td>\n",
       "      <td>1.970270</td>\n",
       "      <td>1.779352</td>\n",
       "      <td>2.140142</td>\n",
       "      <td>17.159313</td>\n",
       "      <td>3.974219</td>\n",
       "    </tr>\n",
       "    <tr>\n",
       "      <th>2020</th>\n",
       "      <td>NaN</td>\n",
       "      <td>1.948107</td>\n",
       "      <td>1.777439</td>\n",
       "      <td>2.214854</td>\n",
       "      <td>17.056532</td>\n",
       "      <td>3.984085</td>\n",
       "    </tr>\n",
       "    <tr>\n",
       "      <th>2021</th>\n",
       "      <td>NaN</td>\n",
       "      <td>1.939264</td>\n",
       "      <td>1.735614</td>\n",
       "      <td>2.159974</td>\n",
       "      <td>NaN</td>\n",
       "      <td>3.433317</td>\n",
       "    </tr>\n",
       "  </tbody>\n",
       "</table>\n",
       "</div>"
      ],
      "text/plain": [
       "           be24    boe60a    boe62a     boe55     boe65b      mq08\n",
       "year                                                              \n",
       "2011  11.141709       NaN       NaN       NaN        NaN       NaN\n",
       "2012   9.760180       NaN       NaN       NaN        NaN       NaN\n",
       "2013   9.399267       NaN       NaN       NaN        NaN       NaN\n",
       "2014        NaN       NaN       NaN  2.269288  19.552741       NaN\n",
       "2015        NaN  1.933743  1.758876  2.108041  18.005161  3.292992\n",
       "2016        NaN  1.980467  1.731013  2.266345  19.129263  3.581933\n",
       "2017        NaN  1.992220  1.681431  2.138252  17.741609  3.756065\n",
       "2018        NaN  2.022379  1.758373  2.143167  17.777333  3.739333\n",
       "2019        NaN  1.970270  1.779352  2.140142  17.159313  3.974219\n",
       "2020        NaN  1.948107  1.777439  2.214854  17.056532  3.984085\n",
       "2021        NaN  1.939264  1.735614  2.159974        NaN  3.433317"
      ]
     },
     "execution_count": 29,
     "metadata": {},
     "output_type": "execute_result"
    }
   ],
   "source": [
    "df_merged2[[\"be24\",\"boe60a\",\"boe62a\",\"year\",\"boe55\",\"boe65b\",\"mq08\"]].groupby(by=\"year\").mean()"
   ]
  },
  {
   "cell_type": "code",
   "execution_count": 30,
   "id": "2c62982a",
   "metadata": {
    "scrolled": true
   },
   "outputs": [
    {
     "data": {
      "text/plain": [
       "Index(['be13b_1_1', 'be13b_1_2', 'boe65bfree_dk_1', 'boe65bfree_dk_2',\n",
       "       'boe65b', 'fq02', 'fq01', 'mq07', 'mq06', 'mq04', 'otheradults', 'mq01',\n",
       "       'mq02', 'mq08', 'mq03', 'typeresponse_1', 'qbe22b', 'subsid',\n",
       "       'dworking', 'be43', 'boe39', 'boe55', 'bod55', 'boe39a_2', 'boe39a_3',\n",
       "       'nochildren', 'boe39a_1', 'boe65afree_dk_1', 'boe65a',\n",
       "       'boe65afree_dk_2', 'be2afree_dk_1', 'be2afree_dk_2', 'be31e', 'qual',\n",
       "       'be31g', 'year', 'fgenage_1', 'dage', 'fgen', 'qhousing', 'dhousing',\n",
       "       'be13', 'dregion', 'be2a', 'qbe15_97', 'qbe15_3', 'be23', 'qbe15_4',\n",
       "       'qbe15_5', 'qbe15_6', 'qbe15_7', 'qregion', 'qbe15_8', 'qbe15_11',\n",
       "       'qbe15_9', 'qbe15_10', 'qbe15_96', 'fbe03', 'we_factor'],\n",
       "      dtype='object')"
      ]
     },
     "execution_count": 30,
     "metadata": {},
     "output_type": "execute_result"
    }
   ],
   "source": [
    "#Columns that has missing value ratio lower than 30%\n",
    "df_merged3=df_merged[df_null[df_null.null_ratio<30].index]\n",
    "df_merged3.columns"
   ]
  },
  {
   "cell_type": "markdown",
   "id": "25031909",
   "metadata": {},
   "source": [
    "## 2. Data Analysis"
   ]
  },
  {
   "cell_type": "markdown",
   "id": "b7e4a465",
   "metadata": {},
   "source": [
    "I will choose categorical and continuous income variables, age,housing, monthly savings and expectations over economy to analyze in this work."
   ]
  },
  {
   "cell_type": "markdown",
   "id": "e7e72090",
   "metadata": {},
   "source": [
    "Since income brackets are different for 2011, I will make 2 graphs looking at distributions separately."
   ]
  },
  {
   "cell_type": "code",
   "execution_count": 48,
   "id": "c4c9ff5d",
   "metadata": {},
   "outputs": [],
   "source": [
    "# Created a new variable maps explanation of values using data description.\n",
    "df_merged2[\"qincome_mapped\"]=df_merged2[\"qincome\"].map({\n",
    "    1: 'Up to £4,499',\n",
    "    2: '£4,500 - £6,499',\n",
    "    3:'£6,500 - £7,499',\n",
    "    4:'£7,500 - £9,499',\n",
    "    5:'£9,500 - £11,499',\n",
    "    6:'£11,500 - £13,499',\n",
    "    7:'£13,500 - £15,499',\n",
    "    8:'£15,500 - £17,499',\n",
    "    9:'£17,500 - £24,999',\n",
    "    10:'£25,000 - £29,999',\n",
    "    11:'£30,000 - £39,999',\n",
    "    12:'£40,000 - £49,999',\n",
    "    13:'£50,000 - £74,999',\n",
    "    14:'£75,000 - £99,999',\n",
    "    15:'£100,000 or more',\n",
    "    97:'Unknown/Prefer Not to State',\n",
    "    96:'Unknown/Prefer Not to State'})"
   ]
  },
  {
   "cell_type": "code",
   "execution_count": 154,
   "id": "ff113c53",
   "metadata": {},
   "outputs": [
    {
     "data": {
      "image/png": "[encoded data removed]",
      "text/plain": [
       "<Figure size 800x480 with 1 Axes>"
      ]
     },
     "metadata": {
      "needs_background": "light"
     },
     "output_type": "display_data"
    }
   ],
   "source": [
    "#df_merged2[df_merged2.year==2011][\"qincome_mapped\"].hist(alpha=0.5)\n",
    "plt.rcParams.update({'font.size': 13})\n",
    "income_category=['Up to £4,499',\n",
    "                 '£4,500 - £6,499',\n",
    "                 '£6,500 - £7,499',\n",
    "                 '£7,500 - £9,499',\n",
    "                 '£9,500 - £11,499',\n",
    "    '£11,500 - £13,499',\n",
    "    '£13,500 - £15,499',\n",
    "    '£15,500 - £17,499',\n",
    "    '£17,500 - £24,999',\n",
    "    '£25,000 - £29,999',\n",
    "    '£30,000 - £39,999',\n",
    "    '£40,000 - £49,999',\n",
    "    '£50,000 - £74,999',\n",
    "    '£75,000 - £99,999',\n",
    "    '£100,000 or more',\n",
    "    'Unknown/Prefer Not to State']\n",
    "fig = plt.figure(figsize=(10, 6), dpi=80)\n",
    "df_merged2[df_merged2.year==2011][\"qincome_mapped\"].value_counts().reindex(income_category).plot(kind='bar',color=\"purple\")\n",
    "plt.xticks(rotation='vertical')\n",
    "plt.xlabel(\"Income\")\n",
    "plt.ylabel(\"Number of individuals\")\n",
    "plt.title('Distribution of Household Income in 2011')\n",
    "plt.show()"
   ]
  },
  {
   "cell_type": "code",
   "execution_count": 146,
   "id": "366712f0",
   "metadata": {},
   "outputs": [
    {
     "data": {
      "image/png": "[encoded data removed]",
      "text/plain": [
       "<Figure size 720x432 with 1 Axes>"
      ]
     },
     "metadata": {
      "needs_background": "light"
     },
     "output_type": "display_data"
    }
   ],
   "source": [
    "#Looking at distributions for 2016 and 2021.\n",
    "order=['Less than 0',\n",
    "    '0',\n",
    "    '£1 – £2,499',\n",
    "    '£2,500 - £4,499',\n",
    "    '£4,500 - £6,499',\n",
    "    '£6,500 - £7,499',\n",
    "    '£7,500 - £9,499',\n",
    "    '£9,500 - £11,499',\n",
    "    '£11,500 - £13,499',\n",
    "    '£13,500 - £15,499',\n",
    "    '£15,500 - £17,499',\n",
    "    '£17,500 - £24,999',\n",
    "    '£25,000 - £34,999',\n",
    "    '£35,000 - £44,999',\n",
    "    '£45,000 - £54,999',\n",
    "    '£55,000 - £74,999',\n",
    "    '£75,000 - £99,999',\n",
    "    '£100,000 or more',\n",
    "    'Unknown/Prefer Not to State']\n",
    "fig, ax = plt.subplots(figsize=(10, 6))\n",
    "ax = sns.countplot(x=\"incomev2comb_mapped\", hue=\"year\", data=df_merged2[(df_merged2.year==2016) | (df_merged2.year==2021)], order=order,palette='inferno')\n",
    "plt.xticks(rotation='vertical')\n",
    "ax.set_xlabel(\"Income\", fontsize = 12)\n",
    "ax.set_ylabel(\"Number of Individuals\", fontsize = 12)\n",
    "plt.legend(title='Year',loc='upper left')\n",
    "plt.title(\"Distribution of Household Income in 2016 and 2021\")\n",
    "plt.show()"
   ]
  },
  {
   "cell_type": "markdown",
   "id": "5333e592",
   "metadata": {},
   "source": [
    "It can be said that distribution of income generally stays the same between the years 2016 and 2021. However, there is a noticable increase in right tail of the distribution, indicating that percentage of income group > 75,00 sterlin increased more compared to other income groups."
   ]
  },
  {
   "cell_type": "markdown",
   "id": "0116ce9b",
   "metadata": {},
   "source": [
    "Now, let's see trend of average the household income between the years 2015-2021."
   ]
  },
  {
   "cell_type": "code",
   "execution_count": 53,
   "id": "e3997a95",
   "metadata": {},
   "outputs": [
    {
     "data": {
      "text/html": [
       "<div>\n",
       "<style scoped>\n",
       "    .dataframe tbody tr th:only-of-type {\n",
       "        vertical-align: middle;\n",
       "    }\n",
       "\n",
       "    .dataframe tbody tr th {\n",
       "        vertical-align: top;\n",
       "    }\n",
       "\n",
       "    .dataframe thead th {\n",
       "        text-align: right;\n",
       "    }\n",
       "</style>\n",
       "<table border=\"1\" class=\"dataframe\">\n",
       "  <thead>\n",
       "    <tr style=\"text-align: right;\">\n",
       "      <th></th>\n",
       "      <th>qincomefreev2_calc</th>\n",
       "    </tr>\n",
       "    <tr>\n",
       "      <th>year</th>\n",
       "      <th></th>\n",
       "    </tr>\n",
       "  </thead>\n",
       "  <tbody>\n",
       "    <tr>\n",
       "      <th>2015</th>\n",
       "      <td>53395.743073</td>\n",
       "    </tr>\n",
       "    <tr>\n",
       "      <th>2016</th>\n",
       "      <td>56333.778607</td>\n",
       "    </tr>\n",
       "    <tr>\n",
       "      <th>2017</th>\n",
       "      <td>58039.706349</td>\n",
       "    </tr>\n",
       "    <tr>\n",
       "      <th>2018</th>\n",
       "      <td>62129.710875</td>\n",
       "    </tr>\n",
       "    <tr>\n",
       "      <th>2019</th>\n",
       "      <td>61527.681046</td>\n",
       "    </tr>\n",
       "    <tr>\n",
       "      <th>2020</th>\n",
       "      <td>57151.862697</td>\n",
       "    </tr>\n",
       "    <tr>\n",
       "      <th>2021</th>\n",
       "      <td>60037.401124</td>\n",
       "    </tr>\n",
       "  </tbody>\n",
       "</table>\n",
       "</div>"
      ],
      "text/plain": [
       "      qincomefreev2_calc\n",
       "year                    \n",
       "2015        53395.743073\n",
       "2016        56333.778607\n",
       "2017        58039.706349\n",
       "2018        62129.710875\n",
       "2019        61527.681046\n",
       "2020        57151.862697\n",
       "2021        60037.401124"
      ]
     },
     "execution_count": 53,
     "metadata": {},
     "output_type": "execute_result"
    }
   ],
   "source": [
    "df_merged2[df_merged2.year>2014][[\"qincomefreev2_calc\",\"year\"]].groupby(by=\"year\").mean()"
   ]
  },
  {
   "cell_type": "code",
   "execution_count": 170,
   "id": "2f0928db",
   "metadata": {},
   "outputs": [
    {
     "data": {
      "image/png": "[encoded data removed]",
      "text/plain": [
       "<Figure size 576x360 with 1 Axes>"
      ]
     },
     "metadata": {
      "needs_background": "light"
     },
     "output_type": "display_data"
    }
   ],
   "source": [
    "data=df_merged2[df_merged2.year>2014][[\"qincomefreev2_calc\",\"year\"]].groupby(by=\"year\").mean()\n",
    "fig, ax = plt.subplots(figsize=(8, 5))\n",
    "sns.lineplot(data=data, x=\"year\", y=\"qincomefreev2_calc\",marker='*',color='#965786')\n",
    "ax.set_ylim(50000, 65000)\n",
    "ax.set_xlabel(\"Year\", fontsize = 12)\n",
    "ax.set_ylabel(\"Average Household Income (£)\", fontsize = 12)\n",
    "ylabels = ['{:,.0f}'.format(x) for x in ax.get_yticks()]\n",
    "ax.set_yticklabels(ylabels)\n",
    "# label points on the plot\n",
    "for x, y in zip(data.index, data['qincomefreev2_calc']):\n",
    " # the position of the data label relative to the data point can be adjusted by adding/subtracting a value from the x &/ y coordinates\n",
    " plt.text(x = x, # x-coordinate position of data label\n",
    " y = y-150, # y-coordinate position of data label, adjusted to be 150 below the data point\n",
    " s = '{:,.0f}'.format(y), # data label, formatted to ignore decimals\n",
    " color = 'white').set_backgroundcolor(\"#965786\") # set colour of line\n",
    "\n",
    "\n",
    "plt.show()"
   ]
  },
  {
   "cell_type": "code",
   "execution_count": 162,
   "id": "85e287e4",
   "metadata": {},
   "outputs": [
    {
     "data": {
      "image/png": "[encoded data removed]",
      "text/plain": [
       "<Figure size 576x360 with 1 Axes>"
      ]
     },
     "metadata": {
      "needs_background": "light"
     },
     "output_type": "display_data"
    }
   ],
   "source": [
    "fig, ax = plt.subplots(figsize=(8, 5))\n",
    "data2=df_merged2[df_merged2.year>2014]\n",
    "ax = sns.boxplot(x=\"year\", y=\"qincomefreev2_calc\", data=data2)\n",
    "ax.set_xlabel(\"Year\", fontsize = 12)\n",
    "ax.set_ylabel(\"Household Income (£)\", fontsize = 12)\n",
    "ax.set_ylim(0, 200000)\n",
    "plt.show()"
   ]
  },
  {
   "cell_type": "code",
   "execution_count": 31,
   "id": "cf19437a",
   "metadata": {},
   "outputs": [
    {
     "data": {
      "text/plain": [
       "count       397.000000\n",
       "mean      53395.743073\n",
       "std       32834.209872\n",
       "min           0.000000\n",
       "25%       31000.000000\n",
       "50%       48000.000000\n",
       "75%       70000.000000\n",
       "max      191000.000000\n",
       "Name: qincomefreev2_calc, dtype: float64"
      ]
     },
     "execution_count": 31,
     "metadata": {},
     "output_type": "execute_result"
    }
   ],
   "source": [
    "df_merged2[(df_merged2.year==2015) &  (df_merged2.qincomefreev2_calc!=np.nan)].qincomefreev2_calc.describe()"
   ]
  },
  {
   "cell_type": "code",
   "execution_count": 49,
   "id": "b3214b67",
   "metadata": {},
   "outputs": [
    {
     "data": {
      "text/plain": [
       "47094    44500.0\n",
       "47096    45000.0\n",
       "47110     7400.0\n",
       "47118    48000.0\n",
       "47124    74000.0\n",
       "          ...   \n",
       "53076    80000.0\n",
       "53083    81000.0\n",
       "53090    18000.0\n",
       "53102    45000.0\n",
       "53107    30000.0\n",
       "Name: qincomefreev2_calc, Length: 823, dtype: float64"
      ]
     },
     "execution_count": 49,
     "metadata": {},
     "output_type": "execute_result"
    }
   ],
   "source": [
    "df_merged2[(df_merged2.year==2020) &  (df_merged2.qincomefreev2_calc>=0)].qincomefreev2_calc"
   ]
  },
  {
   "cell_type": "code",
   "execution_count": 176,
   "id": "29dd9106",
   "metadata": {},
   "outputs": [
    {
     "data": {
      "text/plain": [
       "count       804.000000\n",
       "mean      56333.778607\n",
       "std       47331.817307\n",
       "min           0.000000\n",
       "25%       30000.000000\n",
       "50%       48000.000000\n",
       "75%       70000.000000\n",
       "max      700000.000000\n",
       "Name: qincomefreev2_calc, dtype: float64"
      ]
     },
     "execution_count": 176,
     "metadata": {},
     "output_type": "execute_result"
    }
   ],
   "source": [
    "df_merged2[(df_merged2.year==2016) &  (df_merged2.qincomefreev2_calc!=np.nan) ].qincomefreev2_calc.describe()"
   ]
  },
  {
   "cell_type": "code",
   "execution_count": 165,
   "id": "4784b41a",
   "metadata": {},
   "outputs": [
    {
     "data": {
      "text/plain": [
       "count       756.000000\n",
       "mean      58039.706349\n",
       "std       46972.137792\n",
       "min           0.000000\n",
       "25%       29416.250000\n",
       "50%       49000.000000\n",
       "75%       74461.000000\n",
       "max      320000.000000\n",
       "Name: qincomefreev2_calc, dtype: float64"
      ]
     },
     "execution_count": 165,
     "metadata": {},
     "output_type": "execute_result"
    }
   ],
   "source": [
    "df_merged2[(df_merged2.year==2017) &  (df_merged2.qincomefreev2_calc!=np.nan)].qincomefreev2_calc.describe()"
   ]
  },
  {
   "cell_type": "code",
   "execution_count": 166,
   "id": "6c120d29",
   "metadata": {},
   "outputs": [
    {
     "data": {
      "text/plain": [
       "count       754.000000\n",
       "mean      62129.710875\n",
       "std       47638.349263\n",
       "min           0.000000\n",
       "25%       32000.000000\n",
       "50%       52100.000000\n",
       "75%       80000.000000\n",
       "max      400000.000000\n",
       "Name: qincomefreev2_calc, dtype: float64"
      ]
     },
     "execution_count": 166,
     "metadata": {},
     "output_type": "execute_result"
    }
   ],
   "source": [
    "df_merged2[(df_merged2.year==2018) &  (df_merged2.qincomefreev2_calc!=np.nan)].qincomefreev2_calc.describe()"
   ]
  },
  {
   "cell_type": "code",
   "execution_count": 167,
   "id": "37d30103",
   "metadata": {},
   "outputs": [
    {
     "data": {
      "text/plain": [
       "count       765.000000\n",
       "mean      61527.681046\n",
       "std       39330.352114\n",
       "min           0.000000\n",
       "25%       34000.000000\n",
       "50%       52000.000000\n",
       "75%       80000.000000\n",
       "max      260000.000000\n",
       "Name: qincomefreev2_calc, dtype: float64"
      ]
     },
     "execution_count": 167,
     "metadata": {},
     "output_type": "execute_result"
    }
   ],
   "source": [
    "df_merged2[(df_merged2.year==2019) &  (df_merged2.qincomefreev2_calc!=np.nan)].qincomefreev2_calc.describe()"
   ]
  },
  {
   "cell_type": "code",
   "execution_count": 168,
   "id": "f45e7904",
   "metadata": {},
   "outputs": [
    {
     "data": {
      "text/plain": [
       "count       823.000000\n",
       "mean      57151.862697\n",
       "std       37590.332788\n",
       "min           0.000000\n",
       "25%       31000.000000\n",
       "50%       49514.000000\n",
       "75%       77000.000000\n",
       "max      280000.000000\n",
       "Name: qincomefreev2_calc, dtype: float64"
      ]
     },
     "execution_count": 168,
     "metadata": {},
     "output_type": "execute_result"
    }
   ],
   "source": [
    "df_merged2[(df_merged2.year==2020) &  (df_merged2.qincomefreev2_calc!=np.nan)].qincomefreev2_calc.describe()"
   ]
  },
  {
   "cell_type": "code",
   "execution_count": 169,
   "id": "7c9212bc",
   "metadata": {},
   "outputs": [
    {
     "data": {
      "text/plain": [
       "count       890.000000\n",
       "mean      60037.401124\n",
       "std       44155.506482\n",
       "min           0.000000\n",
       "25%       30000.000000\n",
       "50%       50000.000000\n",
       "75%       81000.000000\n",
       "max      300000.000000\n",
       "Name: qincomefreev2_calc, dtype: float64"
      ]
     },
     "execution_count": 169,
     "metadata": {},
     "output_type": "execute_result"
    }
   ],
   "source": [
    "df_merged2[(df_merged2.year==2021) &  (df_merged2.qincomefreev2_calc!=np.nan)].qincomefreev2_calc.describe()"
   ]
  },
  {
   "cell_type": "markdown",
   "id": "8933abbc",
   "metadata": {},
   "source": [
    "Let's look at this trend in terms of age group."
   ]
  },
  {
   "cell_type": "code",
   "execution_count": 135,
   "id": "e64fe2ad",
   "metadata": {},
   "outputs": [],
   "source": [
    "#mapping age groups into a variable\n",
    "df_merged2[\"dage_mapped\"]=df_merged2[\"dage\"].map({\n",
    "    1: '18-24',\n",
    "    2: '25-34',\n",
    "    3: '35-44',\n",
    "    4: '45-54',\n",
    "    5: '55-64',\n",
    "    6: '65+'})"
   ]
  },
  {
   "cell_type": "code",
   "execution_count": 56,
   "id": "6cc2c6cd",
   "metadata": {},
   "outputs": [
    {
     "data": {
      "image/png": "[encoded data removed]",
      "text/plain": [
       "<Figure size 576x360 with 1 Axes>"
      ]
     },
     "metadata": {
      "needs_background": "light"
     },
     "output_type": "display_data"
    }
   ],
   "source": [
    "fig, ax = plt.subplots(figsize=(8, 5))\n",
    "ax.set_xlabel(\"Year\", fontsize = 12)\n",
    "ax.set_ylabel(\"Average Household Income (£)\", fontsize = 12)\n",
    "palette = sns.color_palette(\"hls\", 6)\n",
    "sns.lineplot(data=df_merged2[df_merged2.year>2014][[\"qincomefreev2_calc\",\"year\",\"dage_mapped\"]].groupby([\"year\",\"dage_mapped\"]).mean(), x=\"year\", y=\"qincomefreev2_calc\",hue=\"dage_mapped\",palette=palette)\n",
    "ax.set_ylim(20000, 80000)\n",
    "ylabels = ['{:,.0f}'.format(x) for x in ax.get_yticks()]\n",
    "ax.set_yticklabels(ylabels)\n",
    "plt.legend(title='Age',loc='lower left')\n",
    "plt.title(\"Average Household Income by Age\")\n",
    "plt.show()"
   ]
  },
  {
   "cell_type": "markdown",
   "id": "cacc8c06",
   "metadata": {},
   "source": [
    "Individuals decide housing standards based on their income. I want to see how these groups changed in the past years.\n"
   ]
  },
  {
   "cell_type": "code",
   "execution_count": 67,
   "id": "6cc4e83d",
   "metadata": {},
   "outputs": [],
   "source": [
    "#mapping housing groups into a variable\n",
    "df_merged2[\"dhousing_mapped\"]=df_merged2[\"dhousing\"].map({\n",
    "    1: 'Owned Mortg',\n",
    "    2: 'Owned Outright',\n",
    "    3: 'Rent LA',\n",
    "    4: 'Rent Private',\n",
    "    5: 'Other/DK/Ref'})"
   ]
  },
  {
   "cell_type": "code",
   "execution_count": 145,
   "id": "27d8de71",
   "metadata": {},
   "outputs": [
    {
     "data": {
      "image/png": "[encoded data removed]",
      "text/plain": [
       "<Figure size 576x360 with 1 Axes>"
      ]
     },
     "metadata": {
      "needs_background": "light"
     },
     "output_type": "display_data"
    }
   ],
   "source": [
    "#preparing line plot\n",
    "fig, ax = plt.subplots(figsize=(8, 5))\n",
    "ax.set_ylabel(\"Average Household Income (£)\", fontsize = 12)\n",
    "palette = sns.color_palette(\"hls\", 4)\n",
    "ax=sns.lineplot(data=df_merged2[(df_merged2.year>2014)][[\"qincomefreev2_calc\",\"year\",\"dhousing_mapped\"]].groupby([\"year\",\"dhousing_mapped\"]).mean(), x=\"year\", y=\"qincomefreev2_calc\",hue=\"dhousing_mapped\",palette=palette)\n",
    "ax.set_xlabel(\"Year\", fontsize = 12)\n",
    "ax.set_ylabel(\"Average Household Income (£)\", fontsize = 12)\n",
    "ylabels = ['{:,.0f}'.format(x) for x in ax.get_yticks()]\n",
    "ax.set_yticklabels(ylabels)\n",
    "plt.legend(title='Housing',loc='lower left')\n",
    "plt.title(\"Average Household Income by Housing\")\n",
    "plt.show()\n"
   ]
  },
  {
   "cell_type": "markdown",
   "id": "85c7885c",
   "metadata": {},
   "source": [
    "It can be said that people who lives on rent affected by the pandemic more."
   ]
  },
  {
   "cell_type": "markdown",
   "id": "6681925f",
   "metadata": {},
   "source": [
    "Below, I plotted figures related to expectations of individuals about economy and monthly saving rate."
   ]
  },
  {
   "cell_type": "code",
   "execution_count": 88,
   "id": "0d32464a",
   "metadata": {},
   "outputs": [],
   "source": [
    "df_merged2[\"mq08_mapped\"]=df_merged2[\"mq08\"].map({\n",
    "    1: 'Get a lot better',\n",
    "    2: 'Get a little better',\n",
    "    3: \"Stay the same\",\n",
    "    4: \"Get  a little worse\",\n",
    "    5: \"Get  a lot worse\",\n",
    "    6: \"Don't know / Prefer not to state\",\n",
    "    7: \"Don't know / Prefer not to state\"})"
   ]
  },
  {
   "cell_type": "code",
   "execution_count": 153,
   "id": "758efc63",
   "metadata": {},
   "outputs": [
    {
     "data": {
      "image/png": "[encoded data removed]",
      "text/plain": [
       "<Figure size 648x432 with 1 Axes>"
      ]
     },
     "metadata": {
      "needs_background": "light"
     },
     "output_type": "display_data"
    }
   ],
   "source": [
    "fig, ax = plt.subplots(figsize=(9, 6))\n",
    "ax.set_ylabel(\"Average Household Income (£)\", fontsize = 12)\n",
    "palette = sns.color_palette(\"hls\", 6)\n",
    "ax=sns.lineplot(data=df_merged2[(df_merged2.year>2014)][[\"qincomefreev2_calc\",\"year\",\"mq08_mapped\"]].groupby([\"year\",\"mq08_mapped\"]).mean(), x=\"year\", y=\"qincomefreev2_calc\",hue=\"mq08_mapped\",palette=palette)\n",
    "ax.set_xlabel(\"Year\", fontsize = 12)\n",
    "ax.set_ylabel(\"Average Household Income (£)\", fontsize = 12)\n",
    "ylabels = ['{:,.0f}'.format(x) for x in ax.get_yticks()]\n",
    "ax.set_yticklabels(ylabels)\n",
    "plt.legend(title='Expectations About Economy',loc='upper right')\n",
    "plt.title(\"Average Household Income by Expectations About Economy Over the Next 12 Months\")\n",
    "plt.show()\n"
   ]
  },
  {
   "cell_type": "code",
   "execution_count": 151,
   "id": "8237ac99",
   "metadata": {},
   "outputs": [
    {
     "data": {
      "image/png": "[encoded data removed]",
      "text/plain": [
       "<Figure size 576x360 with 2 Axes>"
      ]
     },
     "metadata": {
      "needs_background": "light"
     },
     "output_type": "display_data"
    }
   ],
   "source": [
    "fig, ax = plt.subplots(figsize=(8, 5))\n",
    "\n",
    "palette = sns.color_palette(\"hls\", 4)\n",
    "ax=sns.lineplot(data=df_merged2[df_merged2.year>2014][[\"qincomefreev2_calc\",\"year\",\"be2afree_1\"]].groupby([\"year\"]).mean(), x=\"year\", y=\"qincomefreev2_calc\",palette=palette)\n",
    "ax.set_ylabel(\"Average Household Income (£)\", fontsize = 12)\n",
    "ax.set_xlabel(\"Year\", fontsize = 12)\n",
    "ylabels = ['{:,.0f}'.format(x) for x in ax.get_yticks()]\n",
    "ax.set_yticklabels(ylabels)\n",
    "ax2 = ax.twinx()\n",
    "ax1=sns.lineplot(data=df_merged2[df_merged2.year>2014][[\"qincomefreev2_calc\",\"year\",\"be2afree_1\"]].groupby([\"year\"]).mean(),ax=ax2, x=\"year\", y=\"be2afree_1\",color='y')\n",
    "ax1.set_ylabel(\"Average Monthly Saving (£)\", fontsize = 12,color='y')\n",
    "ylabels = ['{:,.0f}'.format(x) for x in ax1.get_yticks()]\n",
    "ax1.set_yticklabels(ylabels)\n",
    "plt.title(\"Average Household Income and Average Monthly Saving\")\n",
    "plt.show()\n"
   ]
  },
  {
   "cell_type": "markdown",
   "id": "0601305d",
   "metadata": {},
   "source": [
    "Looking at other variables to see whether there are any interesting relationships/development."
   ]
  },
  {
   "cell_type": "code",
   "execution_count": 70,
   "id": "b20d06d2",
   "metadata": {},
   "outputs": [],
   "source": [
    "df_merged2[\"be13_mapped\"]=df_merged2[\"be13\"].map({\n",
    "    1: 'Yes',\n",
    "    2: 'No',\n",
    "    97: \"Don't know / Prefer not to state\",\n",
    "    98: \"Don't know / Prefer not to state\"})"
   ]
  },
  {
   "cell_type": "code",
   "execution_count": 71,
   "id": "488f232a",
   "metadata": {},
   "outputs": [],
   "source": [
    "df_merged2[\"boe55_mapped\"]=df_merged2[\"boe55\"].map({\n",
    "    1: 'Not a problem',\n",
    "    2: 'Quite difficult',\n",
    "    3: \"Extremely difficult\",\n",
    "    4: \"Virtually impossible\",\n",
    "    5: \"Don't know / Prefer not to state\",\n",
    "    6: \"Don't know / Prefer not to state\"})"
   ]
  },
  {
   "cell_type": "code",
   "execution_count": 72,
   "id": "0c5c4733",
   "metadata": {},
   "outputs": [
    {
     "data": {
      "text/html": [
       "<div>\n",
       "<style scoped>\n",
       "    .dataframe tbody tr th:only-of-type {\n",
       "        vertical-align: middle;\n",
       "    }\n",
       "\n",
       "    .dataframe tbody tr th {\n",
       "        vertical-align: top;\n",
       "    }\n",
       "\n",
       "    .dataframe thead th {\n",
       "        text-align: right;\n",
       "    }\n",
       "</style>\n",
       "<table border=\"1\" class=\"dataframe\">\n",
       "  <thead>\n",
       "    <tr style=\"text-align: right;\">\n",
       "      <th></th>\n",
       "      <th>year</th>\n",
       "      <th>boe55_mapped</th>\n",
       "      <th>qincomefreev2_calc</th>\n",
       "    </tr>\n",
       "  </thead>\n",
       "  <tbody>\n",
       "    <tr>\n",
       "      <th>0</th>\n",
       "      <td>2015</td>\n",
       "      <td>Don't know / Prefer not to state</td>\n",
       "      <td>NaN</td>\n",
       "    </tr>\n",
       "    <tr>\n",
       "      <th>1</th>\n",
       "      <td>2015</td>\n",
       "      <td>Extremely difficult</td>\n",
       "      <td>47831.519231</td>\n",
       "    </tr>\n",
       "    <tr>\n",
       "      <th>2</th>\n",
       "      <td>2015</td>\n",
       "      <td>Not a problem</td>\n",
       "      <td>53444.989474</td>\n",
       "    </tr>\n",
       "    <tr>\n",
       "      <th>3</th>\n",
       "      <td>2015</td>\n",
       "      <td>Quite difficult</td>\n",
       "      <td>54994.735931</td>\n",
       "    </tr>\n",
       "    <tr>\n",
       "      <th>4</th>\n",
       "      <td>2015</td>\n",
       "      <td>Virtually impossible</td>\n",
       "      <td>48937.526316</td>\n",
       "    </tr>\n",
       "  </tbody>\n",
       "</table>\n",
       "</div>"
      ],
      "text/plain": [
       "   year                      boe55_mapped  qincomefreev2_calc\n",
       "0  2015  Don't know / Prefer not to state                 NaN\n",
       "1  2015               Extremely difficult        47831.519231\n",
       "2  2015                     Not a problem        53444.989474\n",
       "3  2015                   Quite difficult        54994.735931\n",
       "4  2015              Virtually impossible        48937.526316"
      ]
     },
     "execution_count": 72,
     "metadata": {},
     "output_type": "execute_result"
    }
   ],
   "source": [
    "data=df_merged2[(df_merged2.year>2014)][[\"qincomefreev2_calc\",\"year\",\"boe55_mapped\"]].groupby([\"year\",\"boe55_mapped\"]).mean().reset_index()\n",
    "data.head()"
   ]
  },
  {
   "cell_type": "code",
   "execution_count": 113,
   "id": "e9cac4b9",
   "metadata": {},
   "outputs": [
    {
     "data": {
      "image/png": "[encoded data removed]",
      "text/plain": [
       "<Figure size 1008x360 with 1 Axes>"
      ]
     },
     "metadata": {
      "needs_background": "light"
     },
     "output_type": "display_data"
    }
   ],
   "source": [
    "data=df_merged2[(df_merged2.year>2014)][[\"qincomefreev2_calc\",\"year\",\"be13_mapped\"]].groupby([\"year\",\"be13_mapped\"]).mean().reset_index()\n",
    "\n",
    "fig, ax = plt.subplots(figsize=(14, 5))\n",
    "\n",
    "ax=sns.barplot(data=data, x=\"be13_mapped\", y=\"qincomefreev2_calc\",hue=\"year\",palette=palette)\n",
    "ax.set_xlabel(\"Year\", fontsize = 12)\n",
    "ax.set_ylabel(\"Average Household Income (£)\", fontsize = 12)\n",
    "ylabels = ['{:,.0f}'.format(x) for x in ax.get_yticks()]\n",
    "ax.set_yticklabels(ylabels)\n",
    "plt.legend(title='Housing',loc='upper left')\n",
    "plt.title(\"Average Household Income by Difficulty in Housing Payments\")\n",
    "plt.show()\n"
   ]
  }
 ],
 "metadata": {
  "kernelspec": {
   "display_name": "Python 3 (ipykernel)",
   "language": "python",
   "name": "python3"
  },
  "language_info": {
   "codemirror_mode": {
    "name": "ipython",
    "version": 3
   },
   "file_extension": ".py",
   "mimetype": "text/x-python",
   "name": "python",
   "nbconvert_exporter": "python",
   "pygments_lexer": "ipython3",
   "version": "3.9.12"
  }
 },
 "nbformat": 4,
 "nbformat_minor": 5
}
